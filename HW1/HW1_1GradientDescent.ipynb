{
 "cells": [
  {
   "cell_type": "code",
   "execution_count": 3,
   "metadata": {},
   "outputs": [],
   "source": [
    "import numpy as np"
   ]
  },
  {
   "cell_type": "code",
   "execution_count": 4,
   "metadata": {},
   "outputs": [],
   "source": [
    "def sigmoide(x):\n",
    "    return np.exp(x)/(1+np.exp(x))"
   ]
  },
  {
   "cell_type": "code",
   "execution_count": 5,
   "metadata": {},
   "outputs": [],
   "source": [
    "def f(x):\n",
    "    w,b = x[0],x[1]\n",
    "    #return -np.log(sigmoide(w+b))-np.log(sigmoide(1.5*w+b))-np.log(sigmoide(-2*w-b))\n",
    "    return -0.5*w -b + np.log(1 + np.exp(w+b)) + np.log(1 + np.exp(1.5*w+b))+ np.log(1 + np.exp(-2*w-b))"
   ]
  },
  {
   "cell_type": "code",
   "execution_count": 6,
   "metadata": {},
   "outputs": [],
   "source": [
    "def grad_f(x):\n",
    "    w,b = x[0],x[1]\n",
    "    return np.array([-0.5 + sigmoide(w+b) + 1.5*sigmoide(1.5*w+b) - 2*sigmoide(-2*w-b),\n",
    "            -1 + sigmoide(w+b) + sigmoide(1.5*w+b) - sigmoide(-2*w-b)])"
   ]
  },
  {
   "cell_type": "code",
   "execution_count": 7,
   "metadata": {},
   "outputs": [],
   "source": [
    "def eta_const(t,c=0.2):\n",
    "    return c\n",
    "\n",
    "def eta_sqrt(t,c=0.2):\n",
    "    return c/(np.sqrt(t+1))\n",
    "\n",
    "def eta_multistep(t, milestones=[20,50,80], c=0.2, eta_init=0.2):\n",
    "    factor = len(milestones)\n",
    "    for i in range(len(milestones)):\n",
    "        if t < milestones[i]:\n",
    "            factor = i\n",
    "            break\n",
    "    return eta_init * c**factor"
   ]
  },
  {
   "cell_type": "code",
   "execution_count": 8,
   "metadata": {},
   "outputs": [],
   "source": [
    "def gradient_descent(f, grad_f, eta, w_0, b_0, max_iter=100):\n",
    "    x = np.array([w_0,b_0])\n",
    "    fmin = np.inf\n",
    "    for t in range(0,max_iter):\n",
    "        x = x - eta(t)*grad_f(x)\n",
    "        fx = f(x)\n",
    "        if (fx < fmin): \n",
    "            fmin = fx\n",
    "    return fx,fmin"
   ]
  },
  {
   "cell_type": "code",
   "execution_count": 9,
   "metadata": {},
   "outputs": [
    {
     "data": {
      "text/plain": [
       "(1.0932277009188751, 1.0932277009188751)"
      ]
     },
     "execution_count": 9,
     "metadata": {},
     "output_type": "execute_result"
    }
   ],
   "source": [
    "gradient_descent(f,grad_f,eta_const,1,1,100)"
   ]
  },
  {
   "cell_type": "code",
   "execution_count": 10,
   "metadata": {},
   "outputs": [
    {
     "data": {
      "text/plain": [
       "(1.6965683333378159, 1.6965683333378159)"
      ]
     },
     "execution_count": 10,
     "metadata": {},
     "output_type": "execute_result"
    }
   ],
   "source": [
    "gradient_descent(f,grad_f,eta_sqrt,1,1,100)"
   ]
  },
  {
   "cell_type": "code",
   "execution_count": 11,
   "metadata": {},
   "outputs": [
    {
     "data": {
      "text/plain": [
       "(1.5983060979559247, 1.5983060979559247)"
      ]
     },
     "execution_count": 11,
     "metadata": {},
     "output_type": "execute_result"
    }
   ],
   "source": [
    "gradient_descent(f,grad_f,eta_multistep,1,1,100)"
   ]
  }
 ],
 "metadata": {
  "kernelspec": {
   "display_name": "Python 3 (ipykernel)",
   "language": "python",
   "name": "python3"
  },
  "language_info": {
   "codemirror_mode": {
    "name": "ipython",
    "version": 3
   },
   "file_extension": ".py",
   "mimetype": "text/x-python",
   "name": "python",
   "nbconvert_exporter": "python",
   "pygments_lexer": "ipython3",
   "version": "3.12.0"
  }
 },
 "nbformat": 4,
 "nbformat_minor": 2
}
