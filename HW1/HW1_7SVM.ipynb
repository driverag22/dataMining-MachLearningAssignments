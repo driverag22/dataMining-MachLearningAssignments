{
 "cells": [
  {
   "cell_type": "code",
   "execution_count": 420,
   "id": "216d9e83",
   "metadata": {},
   "outputs": [],
   "source": [
    "import numpy as np"
   ]
  },
  {
   "cell_type": "markdown",
   "id": "a7eadd07",
   "metadata": {},
   "source": [
    "If possible, update your sklearn version to 1.3.2 to reduce variance in the versions."
   ]
  },
  {
   "cell_type": "code",
   "execution_count": 421,
   "id": "7826208c",
   "metadata": {},
   "outputs": [],
   "source": [
    "#!pip3 install scikit-learn==1.3.2"
   ]
  },
  {
   "cell_type": "code",
   "execution_count": 422,
   "id": "dd0a3fe3",
   "metadata": {},
   "outputs": [
    {
     "name": "stdout",
     "output_type": "stream",
     "text": [
      "The scikit-learn version is 1.3.2.\n"
     ]
    }
   ],
   "source": [
    "import sklearn\n",
    "print('The scikit-learn version is {}.'.format(sklearn.__version__))"
   ]
  },
  {
   "cell_type": "markdown",
   "id": "13e24eba",
   "metadata": {},
   "source": [
    "## SVM"
   ]
  },
  {
   "cell_type": "code",
   "execution_count": 423,
   "id": "c132e3a4",
   "metadata": {},
   "outputs": [],
   "source": [
    "# Standard scientific Python imports\n",
    "import matplotlib.pyplot as plt\n",
    "\n",
    "from sklearn import datasets\n",
    "from sklearn.model_selection import train_test_split\n",
    "\n",
    "from sklearn.metrics import accuracy_score\n",
    "from sklearn.preprocessing import StandardScaler"
   ]
  },
  {
   "cell_type": "code",
   "execution_count": 424,
   "id": "b7946aaa",
   "metadata": {},
   "outputs": [
    {
     "data": {
      "image/png": "[encoded data removed]",
      "text/plain": [
       "<Figure size 1000x300 with 4 Axes>"
      ]
     },
     "metadata": {},
     "output_type": "display_data"
    }
   ],
   "source": [
    "digits = datasets.load_digits()\n",
    "\n",
    "_, axes = plt.subplots(nrows=1, ncols=4, figsize=(10, 3))\n",
    "for ax, image, label in zip(axes, digits.images, digits.target):\n",
    "    ax.set_axis_off()\n",
    "    ax.imshow(image, cmap=plt.cm.gray_r, interpolation=\"nearest\")\n",
    "    ax.set_title(\"Label %i\" % label)"
   ]
  },
  {
   "cell_type": "code",
   "execution_count": 425,
   "id": "08ceaddc",
   "metadata": {},
   "outputs": [],
   "source": [
    "# flatten the images\n",
    "n = len(digits.images)\n",
    "D = digits.images.reshape((n, -1))\n",
    "y = digits.target\n",
    "\n",
    "# Split data into 70% train and 30% test subsets\n",
    "D_train, D_test, y_train, y_test = train_test_split(\n",
    "    D, y, test_size=0.3, shuffle=False\n",
    ")"
   ]
  },
  {
   "cell_type": "code",
   "execution_count": 426,
   "metadata": {},
   "outputs": [
    {
     "name": "stdout",
     "output_type": "stream",
     "text": [
      "Accuracy on the test set: 0.9555555555555556\n"
     ]
    }
   ],
   "source": [
    "## 7a\n",
    "from sklearn.svm import SVC\n",
    "\n",
    "# Create and train the SVM model with RBF kernel\n",
    "clf = SVC(kernel='rbf', gamma=0.0005, C=0.9)\n",
    "clf.fit(D_train, y_train)\n",
    "\n",
    "# Make predictions on the test set\n",
    "y_pred = clf.predict(D_test)\n",
    "\n",
    "# Calculate accuracy\n",
    "accuracy = accuracy_score(y_test, y_pred)\n",
    "print(f'Accuracy on the test set: {accuracy}')"
   ]
  },
  {
   "cell_type": "code",
   "execution_count": 427,
   "metadata": {},
   "outputs": [
    {
     "name": "stdout",
     "output_type": "stream",
     "text": [
      "The number of suport vectors distinguishing 0 from 1 is: 31\n"
     ]
    }
   ],
   "source": [
    "## 7c\n",
    "n_support_total = clf.n_support_[0] + clf.n_support_[1]\n",
    "\n",
    "support_total = clf.dual_coef_[0][:n_support_total]\n",
    "suport_cnt = sum(1 for x in support_total if np.abs(x) > 0)\n",
    "\n",
    "print(f'The number of suport vectors distinguishing 0 from 1 is: {suport_cnt}')"
   ]
  },
  {
   "cell_type": "code",
   "execution_count": 428,
   "metadata": {},
   "outputs": [
    {
     "data": {
      "image/png": "[encoded data removed]",
      "text/plain": [
       "<Figure size 1300x400 with 8 Axes>"
      ]
     },
     "metadata": {},
     "output_type": "display_data"
    }
   ],
   "source": [
    "# 7d\n",
    "support_important_coefs_0 = sorted(support_total, reverse=True)[:4]\n",
    "support_important_indices_0 = [i for i in range(len(support_total)) if support_total[i] in support_important_coefs_0]\n",
    "support_important_0 = [clf.support_vectors_[i] for i in support_important_indices_0]\n",
    "support_important_0_img = [ [vec[i:i+8] for i in range(0, 64, 8)] for vec in support_important_0 ]\n",
    "\n",
    "support_important_coefs_1 = sorted(support_total)[:4]\n",
    "support_important_indices_1 = [i for i in range(len(support_total)) if support_total[i] in support_important_coefs_1]\n",
    "support_important_1 = [clf.support_vectors_[i] for i in support_important_indices_1]\n",
    "support_important_1_img = [ [vec[i:i+8] for i in range(0, 64, 8)] for vec in support_important_1 ]\n",
    "\n",
    "support_important_img = [support_important_0_img, support_important_1_img]\n",
    "\n",
    "_, axes = plt.subplots(nrows=2, ncols=4, figsize=(13, 4))\n",
    "for row, class_img, class_index in zip(axes, support_important_img, [0, 1]):\n",
    "    for ax, image, sv_index in zip(row, class_img, [1, 2, 3, 4]):\n",
    "        ax.set_axis_off()\n",
    "        ax.imshow(image, cmap=plt.cm.gray_r, interpolation=\"nearest\")\n",
    "        ax.set_title(f\"Class {class_index}, {sv_index} most influent SV\")"
   ]
  },
  {
   "cell_type": "code",
   "execution_count": 429,
   "metadata": {},
   "outputs": [
    {
     "name": "stdout",
     "output_type": "stream",
     "text": [
      "{'C': 4, 'gamma': 0.0005}\n",
      "0.9744073042401734\n"
     ]
    }
   ],
   "source": [
    "### 7e \n",
    "\n",
    "from sklearn.model_selection import GridSearchCV\n",
    "\n",
    "# Define the parameter grid\n",
    "param_grid = {'C': [0.6, 0.8, 1, 2, 4],\n",
    "              'gamma': [0.0001, 0.0005, 0.001, 0.005]}\n",
    "\n",
    "# Create the SVM model with RBF kernel\n",
    "gen_red_kernel = SVC(kernel='rbf')\n",
    "\n",
    "# Create GridSearchCV object with 5-fold cross-validation and accuracy as the scoring metric\n",
    "grid_search = GridSearchCV(estimator=gen_red_kernel, param_grid=param_grid, scoring='accuracy', cv=5)\n",
    "\n",
    "# Fit the model to the entire dataset\n",
    "grid_search.fit(D, y)\n",
    "\n",
    "print(grid_search.best_params_)\n",
    "print(grid_search.best_score_)"
   ]
  }
 ],
 "metadata": {
  "kernelspec": {
   "display_name": "Python 3 (ipykernel)",
   "language": "python",
   "name": "python3"
  },
  "language_info": {
   "codemirror_mode": {
    "name": "ipython",
    "version": 3
   },
   "file_extension": ".py",
   "mimetype": "text/x-python",
   "name": "python",
   "nbconvert_exporter": "python",
   "pygments_lexer": "ipython3",
   "version": "3.11.7"
  }
 },
 "nbformat": 4,
 "nbformat_minor": 5
}
