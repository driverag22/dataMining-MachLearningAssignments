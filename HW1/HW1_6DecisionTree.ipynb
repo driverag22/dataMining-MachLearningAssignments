{
 "cells": [
  {
   "cell_type": "code",
   "execution_count": 1,
   "id": "216d9e83",
   "metadata": {},
   "outputs": [],
   "source": [
    "import numpy as np"
   ]
  },
  {
   "cell_type": "markdown",
   "id": "a7eadd07",
   "metadata": {},
   "source": [
    "If possible, update your sklearn version to 1.3.2 to reduce variance in the versions."
   ]
  },
  {
   "cell_type": "code",
   "execution_count": 2,
   "id": "7826208c",
   "metadata": {},
   "outputs": [],
   "source": [
    "#!pip3 install scikit-learn==1.3.2"
   ]
  },
  {
   "cell_type": "code",
   "execution_count": 3,
   "id": "dd0a3fe3",
   "metadata": {},
   "outputs": [
    {
     "name": "stdout",
     "output_type": "stream",
     "text": [
      "The scikit-learn version is 1.3.2.\n"
     ]
    }
   ],
   "source": [
    "import sklearn\n",
    "print('The scikit-learn version is {}.'.format(sklearn.__version__))"
   ]
  },
  {
   "cell_type": "markdown",
   "id": "9daf68a3",
   "metadata": {},
   "source": [
    "## Decision Tree"
   ]
  },
  {
   "cell_type": "code",
   "execution_count": 4,
   "id": "f6962d9d",
   "metadata": {},
   "outputs": [],
   "source": [
    "from sklearn.datasets import load_iris\n",
    "iris = load_iris()\n",
    "D, y = iris.data, iris.target"
   ]
  },
  {
   "cell_type": "code",
   "execution_count": 5,
   "id": "07aca608",
   "metadata": {},
   "outputs": [],
   "source": [
    "##print(iris.DESCR)"
   ]
  },
  {
   "cell_type": "code",
   "execution_count": 6,
   "metadata": {},
   "outputs": [
    {
     "name": "stdout",
     "output_type": "stream",
     "text": [
      "0.6666666666666667\n"
     ]
    }
   ],
   "source": [
    "root_lables = y\n",
    "\n",
    "# Total number of instances in the dataset\n",
    "root_total = len(root_lables)\n",
    "\n",
    "# Calculate number of entries for each class\n",
    "unique_classes, class_counts = np.unique(root_lables, return_counts=True)\n",
    "\n",
    "# Calculate probabilities for each class\n",
    "probabilities = (class_counts / root_total)\n",
    "\n",
    "impurity_root = 1 - np.sum(probabilities**2)\n",
    "print(impurity_root)"
   ]
  },
  {
   "cell_type": "code",
   "execution_count": 7,
   "metadata": {},
   "outputs": [
    {
     "name": "stdout",
     "output_type": "stream",
     "text": [
      "-0.17476190476190478\n"
     ]
    }
   ],
   "source": [
    "characteristics = D\n",
    "split_cond = 5.84\n",
    "total_instances = len(D)\n",
    "\n",
    "# Split the dataset based on the sepal length\n",
    "left_leaf= np.where(characteristics[:, 0] <= split_cond)\n",
    "right_leaf= np.where(characteristics[:, 0] > split_cond)\n",
    "\n",
    "left_lables = y[left_leaf]\n",
    "right_lables = y[right_leaf]\n",
    "\n",
    "# Calculate number of entries for each class and probabilities\n",
    "left_total = len(left_lables)\n",
    "unique_classes, class_count_left = np.unique(left_lables, return_counts=True)\n",
    "left_probabilities = (class_count_left / len(left_lables))\n",
    "impurity_left = 1 - np.sum(left_probabilities**2)\n",
    "\n",
    "# Calculate number of entries for each class and probabilities\n",
    "right_total = len(right_lables)\n",
    "unique_classes, class_count_right = np.unique(right_lables, return_counts=True)\n",
    "right_probabilities = (class_count_right / len(right_lables))\n",
    "impurity_right = 1 - np.sum(right_probabilities**2)\n",
    "\n",
    "cost = (left_total / root_total) * impurity_left + (right_total / root_total) * impurity_right - impurity_root\n",
    "print(cost)"
   ]
  },
  {
   "cell_type": "code",
   "execution_count": null,
   "metadata": {},
   "outputs": [],
   "source": []
  }
 ],
 "metadata": {
  "kernelspec": {
   "display_name": "Python 3 (ipykernel)",
   "language": "python",
   "name": "python3"
  },
  "language_info": {
   "codemirror_mode": {
    "name": "ipython",
    "version": 3
   },
   "file_extension": ".py",
   "mimetype": "text/x-python",
   "name": "python",
   "nbconvert_exporter": "python",
   "pygments_lexer": "ipython3",
   "version": "3.11.6"
  }
 },
 "nbformat": 4,
 "nbformat_minor": 5
}
