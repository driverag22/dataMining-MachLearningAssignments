{
 "cells": [
  {
   "cell_type": "markdown",
   "metadata": {},
   "source": [
    "# Homework 1\n",
    "Diego Rivera Garrido(1674196), d.rivera.garrido@student.tue.nl\n",
    "\n",
    "Iliyan vasilev Teofilov(1671952), i.v.teofilov@student.tue.nl\n",
    "\n",
    "Nicolas Martinez van der Looven(2064839), n.martinez.van.der.looven@student.tue.nl"
   ]
  },
  {
   "cell_type": "code",
   "execution_count": 1,
   "metadata": {},
   "outputs": [],
   "source": [
    "import numpy as np"
   ]
  },
  {
   "cell_type": "markdown",
   "metadata": {},
   "source": [
    "## 1 Gradient Descent"
   ]
  },
  {
   "cell_type": "markdown",
   "metadata": {},
   "source": [
    "First we implemented python functions forthe sigmoide, f and ∇f."
   ]
  },
  {
   "cell_type": "code",
   "execution_count": 2,
   "metadata": {},
   "outputs": [],
   "source": [
    "def sigmoide(x):\n",
    "    return np.exp(x)/(1+np.exp(x))\n",
    "\n",
    "def f(x):\n",
    "    w,b = x[0],x[1]\n",
    "    #return -np.log(sigmoide(w+b))-np.log(sigmoide(1.5*w+b))-np.log(sigmoide(-2*w-b))\n",
    "    return -0.5*w -b + np.log(1 + np.exp(w+b)) + np.log(1 + np.exp(1.5*w+b))+ np.log(1 + np.exp(-2*w-b))\n",
    "\n",
    "def grad_f(x):\n",
    "    w,b = x[0],x[1]\n",
    "    return np.array([-0.5 + sigmoide(w+b) + 1.5*sigmoide(1.5*w+b) - 2*sigmoide(-2*w-b),\n",
    "            -1 + sigmoide(w+b) + sigmoide(1.5*w+b) - sigmoide(-2*w-b)])"
   ]
  },
  {
   "cell_type": "markdown",
   "metadata": {},
   "source": [
    "Below we implemented the gradient descent algorithm given starting point w₀,b₀, f, ∇f and the stepsize function η(t). The result is the last iteration function value f(x) and the lowest (best) function value achieved throughout all iterations."
   ]
  },
  {
   "cell_type": "code",
   "execution_count": 3,
   "metadata": {},
   "outputs": [],
   "source": [
    "def gradient_descent(f, grad_f, eta, w_0, b_0, max_iter=100):\n",
    "    x = np.array([w_0,b_0])\n",
    "    fmin = np.inf\n",
    "    for t in range(0,max_iter):\n",
    "        x = x - eta(t)*grad_f(x)\n",
    "        fx = f(x)\n",
    "        if (fx < fmin): \n",
    "            fmin = fx\n",
    "    return fx,fmin"
   ]
  },
  {
   "cell_type": "markdown",
   "metadata": {},
   "source": [
    "#### 1.a\n",
    "Run algorithm with  constant stepsize strategy, η=0.2 constant."
   ]
  },
  {
   "cell_type": "code",
   "execution_count": 4,
   "metadata": {},
   "outputs": [],
   "source": [
    "def eta_const(t,c=0.2):\n",
    "    return c"
   ]
  },
  {
   "cell_type": "code",
   "execution_count": 5,
   "metadata": {},
   "outputs": [
    {
     "data": {
      "text/plain": [
       "(1.0932277009188751, 1.0932277009188751)"
      ]
     },
     "execution_count": 5,
     "metadata": {},
     "output_type": "execute_result"
    }
   ],
   "source": [
    "gradient_descent(f,grad_f,eta_const,1,1,100)"
   ]
  },
  {
   "cell_type": "markdown",
   "metadata": {},
   "source": [
    "#### 1.b\n",
    "Run algorithm with decreasing step-size strategy, η(t)=0.2/√(t+1)."
   ]
  },
  {
   "cell_type": "code",
   "execution_count": 6,
   "metadata": {},
   "outputs": [],
   "source": [
    "def eta_sqrt(t,c=0.2):\n",
    "    return c/(np.sqrt(t+1))"
   ]
  },
  {
   "cell_type": "code",
   "execution_count": 7,
   "metadata": {},
   "outputs": [
    {
     "data": {
      "text/plain": [
       "(1.6965683333378159, 1.6965683333378159)"
      ]
     },
     "execution_count": 7,
     "metadata": {},
     "output_type": "execute_result"
    }
   ],
   "source": [
    "gradient_descent(f,grad_f,eta_sqrt,1,1,100)"
   ]
  },
  {
   "cell_type": "markdown",
   "metadata": {},
   "source": [
    "#### 1.c\n",
    "Run algorithm with multi-step step-size strategy."
   ]
  },
  {
   "cell_type": "code",
   "execution_count": 8,
   "metadata": {},
   "outputs": [],
   "source": [
    "def eta_multistep(t, milestones=[20,50,80], c=0.2, eta_init=0.2):\n",
    "    factor = len(milestones)\n",
    "    for i in range(len(milestones)):\n",
    "        if t < milestones[i]:\n",
    "            factor = i\n",
    "            break\n",
    "    return eta_init * c**factor"
   ]
  },
  {
   "cell_type": "code",
   "execution_count": 9,
   "metadata": {},
   "outputs": [
    {
     "data": {
      "text/plain": [
       "(1.5983060979559247, 1.5983060979559247)"
      ]
     },
     "execution_count": 9,
     "metadata": {},
     "output_type": "execute_result"
    }
   ],
   "source": [
    "gradient_descent(f,grad_f,eta_multistep,1,1,100)"
   ]
  },
  {
   "cell_type": "markdown",
   "metadata": {},
   "source": [
    "## 2 Coordinate Descent"
   ]
  },
  {
   "cell_type": "markdown",
   "metadata": {},
   "source": [
    "Below we implemented a function for evaluating f(x)."
   ]
  },
  {
   "cell_type": "code",
   "execution_count": 10,
   "metadata": {},
   "outputs": [],
   "source": [
    "def f(x):\n",
    "    return (1/2) *(x[0] ** 4) - x[0] * x[1] + (x[1] ** 2) + x[1] * x[2] + (x[2] ** 2)"
   ]
  },
  {
   "cell_type": "markdown",
   "metadata": {},
   "source": [
    "#### 2.a\n",
    "To compute argmin_xi f(x), we will compute the partial derivative of f wrt xi and equal it to zero to check the stationary points, in other words, we solve for xi in df(x)/dxi=0. Next, we find which stationary point evaluated on the second derivative wrt xi yields a positive value to find the minimum.\n",
    "\n",
    "For x₁, we solve df/dx₁ = 2x₁^3 - x₂ = 0 and d²f/dx₁² = 6x₁^2 > 0 -> x₁ = (x₂/2)^⅓ \n",
    "\n",
    "For x₂, we solve df/dx₂ = -x₁ + 2x₂ + x₃ = 0 and d²f/dx₂² = 2 > 0 -> x₂ = (x₁ - x₃)/2\n",
    "\n",
    "For x₃, we solve df/dx₃ = x₂ + 2x₃ = 0 and d²f/dx₃² = 2 > 0 -> x₃ = -x₂/2"
   ]
  },
  {
   "cell_type": "code",
   "execution_count": 11,
   "metadata": {},
   "outputs": [],
   "source": [
    "def argmin(x): # mind the index shift\n",
    "    # x₁ = (x₂/2)^⅓ \n",
    "    argminx0 = pow(x[1]/2, 1/3).real # truncate to real part\n",
    "    # x₂ = (x₁ - x₃)/2\n",
    "    argminx1 = (x[0]-x[2])/2\n",
    "    # x₃ = -x₂/2\n",
    "    argminx2 =  -x[1]/2\n",
    "    return (argminx0,argminx1,argminx2)\n"
   ]
  },
  {
   "cell_type": "code",
   "execution_count": 12,
   "metadata": {},
   "outputs": [
    {
     "name": "stdout",
     "output_type": "stream",
     "text": [
      "i = 0: 1.1447142425533319\n",
      "\n",
      "i = 1: -1.0\n",
      "\n",
      "i = 2: -1.5\n",
      "\n"
     ]
    }
   ],
   "source": [
    "x_0=[2,3,4]\n",
    "for i in range(0,3):\n",
    "    print(\"i = \" + str(i) + \": \" + str(argmin(x_0)[i]))\n",
    "    print()\n",
    "\n",
    "\n",
    "## quick test\n",
    "for t in range(-100, 100):\n",
    "    if ( f( [t, x_0[1], x_0[2]] ) < f( [argmin(x_0)[0], x_0[1], x_0[2]] ) ):\n",
    "        print(\"not min.\")\n",
    "    if ( f( [x_0[0], t, x_0[2]] ) < f( [x_0[0], argmin(x_0)[1], x_0[2]] ) ):\n",
    "        print(\"not min.\")\n",
    "    if ( f( [x_0[0], x_0[1], t] ) < f( [x_0[0], x_0[1], argmin(x_0)[2]] ) ):\n",
    "        print(\"not min.\")"
   ]
  },
  {
   "cell_type": "markdown",
   "metadata": {},
   "source": [
    "#### 2.b\n",
    "\n",
    "Next, we implement the coordinate descent algorithm given f, the array of argmin and the starting point x0."
   ]
  },
  {
   "cell_type": "code",
   "execution_count": 13,
   "metadata": {},
   "outputs": [],
   "source": [
    "\n",
    "def coordinate_descent(f, argmin, x_0, max_iter=100):\n",
    "\n",
    "    print(\"t =\", 0, \":\")\n",
    "    print(\"x_t =\", x_0)\n",
    "    print(\"f(x_t) =\", f(x_0))\n",
    "    print()\n",
    "\n",
    "    x_t = x_0\n",
    "    for t in range(1, max_iter+1):\n",
    "        # use x_t to save values of argmin we find\n",
    "        print(\"t =\", t, \":\")\n",
    "        for i in range(0,3):\n",
    "            x_t[i] = argmin(x_t)[i] \n",
    "        print(\"x_t =\", x_t)\n",
    "        print(\"f(x_t) =\", f(x_t))\n",
    "        print()\n",
    "    return x_t, f(x_t)\n"
   ]
  },
  {
   "cell_type": "code",
   "execution_count": 14,
   "metadata": {},
   "outputs": [
    {
     "name": "stdout",
     "output_type": "stream",
     "text": [
      "t = 0 :\n",
      "x_t = [1, 20, 5]\n",
      "f(x_t) = 505.5\n",
      "\n",
      "t = 1 :\n",
      "x_t = [2.154434690031884, -1.422782654984058, 0.711391327492029]\n",
      "f(x_t) = 15.355698620925356\n",
      "\n",
      "t = 2 :\n",
      "x_t = [0.4463472463394358, -0.13252204057629663, 0.06626102028814831]\n",
      "f(x_t) = 0.09216788882538113\n",
      "\n",
      "t = 3 :\n",
      "x_t = [0.20232802580270529, 0.06803350275727849, -0.03401675137863924]\n",
      "f(x_t) = -0.00945576233934372\n",
      "\n",
      "t = 4 :\n",
      "x_t = [0.3240143752787107, 0.17901556332867496, -0.08950778166433748]\n",
      "f(x_t) = -0.02845772875821445\n",
      "\n",
      "t = 5 :\n",
      "x_t = [0.4473220068245364, 0.26841489424443693, -0.13420744712221847]\n",
      "f(x_t) = -0.046013572305576095\n",
      "\n",
      "t = 6 :\n",
      "x_t = [0.5119869268540793, 0.3230971869881489, -0.16154859349407444]\n",
      "f(x_t) = -0.05277146245500104\n",
      "\n",
      "t = 7 :\n",
      "x_t = [0.5446293734587898, 0.35308898347643214, -0.17654449173821607]\n",
      "f(x_t) = -0.05480670452774185\n",
      "\n",
      "t = 8 :\n",
      "x_t = [0.5609851830337869, 0.36876483738600147, -0.18438241869300073]\n",
      "f(x_t) = -0.055361558822482594\n",
      "\n",
      "t = 9 :\n",
      "x_t = [0.5691671623915749, 0.37677479054228785, -0.18838739527114393]\n",
      "f(x_t) = -0.05550619728130006\n",
      "\n",
      "t = 10 :\n",
      "x_t = [0.5732586463134279, 0.3808230207922859, -0.19041151039614296]\n",
      "f(x_t) = -0.05554310791253051\n",
      "\n",
      "t = 11 :\n",
      "x_t = [0.5753044491280961, 0.38285797976211955, -0.19142898988105977]\n",
      "f(x_t) = -0.055552430092642414\n",
      "\n",
      "t = 12 :\n",
      "x_t = [0.5763273580847414, 0.3838781739829006, -0.1919390869914503]\n",
      "f(x_t) = -0.05555477249313431\n",
      "\n",
      "t = 13 :\n",
      "x_t = [0.5768388135031562, 0.38438895024730324, -0.19219447512365162]\n",
      "f(x_t) = -0.05555535957769669\n",
      "\n",
      "t = 14 :\n",
      "x_t = [0.5770945413296524, 0.384644508226652, -0.192322254113326]\n",
      "f(x_t) = -0.055555506534548695\n",
      "\n",
      "t = 15 :\n",
      "x_t = [0.5772224052575478, 0.3847723296854369, -0.19238616484271845]\n",
      "f(x_t) = -0.055555543296985435\n",
      "\n",
      "t = 16 :\n",
      "x_t = [0.5772863372233255, 0.38483625103302194, -0.19241812551651097]\n",
      "f(x_t) = -0.055555552490498164\n",
      "\n",
      "t = 17 :\n",
      "x_t = [0.577318303206443, 0.38486821436147695, -0.19243410718073847]\n",
      "f(x_t) = -0.055555554789239354\n",
      "\n",
      "t = 18 :\n",
      "x_t = [0.5773342861980303, 0.3848841966893844, -0.1924420983446922]\n",
      "f(x_t) = -0.05555555536397002\n",
      "\n",
      "t = 19 :\n",
      "x_t = [0.5773422776938275, 0.38489218801925984, -0.19244609400962992]\n",
      "f(x_t) = -0.05555555550765838\n",
      "\n",
      "t = 20 :\n",
      "x_t = [0.5773462734417266, 0.38489618372567824, -0.19244809186283912]\n",
      "f(x_t) = -0.055555555543581145\n",
      "\n",
      "t = 21 :\n",
      "x_t = [0.5773482713156761, 0.3848981815892576, -0.1924490907946288]\n",
      "f(x_t) = -0.05555555555256193\n",
      "\n",
      "t = 22 :\n",
      "x_t = [0.5773492702526509, 0.38489918052363986, -0.19244959026181993]\n",
      "f(x_t) = -0.055555555554807144\n",
      "\n",
      "t = 23 :\n",
      "x_t = [0.5773497697211384, 0.38489967999147917, -0.19244983999573959]\n",
      "f(x_t) = -0.055555555555368466\n",
      "\n",
      "t = 24 :\n",
      "x_t = [0.5773500194553821, 0.38489992972556086, -0.19244996486278043]\n",
      "f(x_t) = -0.05555555555550879\n",
      "\n",
      "t = 25 :\n",
      "x_t = [0.577350144322504, 0.3849000545926422, -0.1924500272963211]\n",
      "f(x_t) = -0.055555555555543874\n",
      "\n",
      "t = 26 :\n",
      "x_t = [0.5773502067560649, 0.384900117026193, -0.1924500585130965]\n",
      "f(x_t) = -0.05555555555555262\n",
      "\n",
      "t = 27 :\n",
      "x_t = [0.5773502379728453, 0.3849001482429709, -0.19245007412148546]\n",
      "f(x_t) = -0.055555555555554845\n",
      "\n",
      "t = 28 :\n",
      "x_t = [0.5773502535812356, 0.3849001638513605, -0.19245008192568025]\n",
      "f(x_t) = -0.05555555555555535\n",
      "\n",
      "t = 29 :\n",
      "x_t = [0.5773502613854307, 0.38490017165555546, -0.19245008582777773]\n",
      "f(x_t) = -0.05555555555555551\n",
      "\n",
      "t = 30 :\n",
      "x_t = [0.5773502652875282, 0.384900175557653, -0.1924500877788265]\n",
      "f(x_t) = -0.05555555555555553\n",
      "\n",
      "t = 31 :\n",
      "x_t = [0.577350267238577, 0.38490017750870176, -0.19245008875435088]\n",
      "f(x_t) = -0.05555555555555553\n",
      "\n",
      "t = 32 :\n",
      "x_t = [0.5773502682141014, 0.38490017848422614, -0.19245008924211307]\n",
      "f(x_t) = -0.05555555555555552\n",
      "\n",
      "t = 33 :\n",
      "x_t = [0.5773502687018636, 0.3849001789719883, -0.19245008948599415]\n",
      "f(x_t) = -0.05555555555555553\n",
      "\n",
      "t = 34 :\n",
      "x_t = [0.5773502689457447, 0.38490017921586944, -0.19245008960793472]\n",
      "f(x_t) = -0.05555555555555555\n",
      "\n",
      "t = 35 :\n",
      "x_t = [0.5773502690676853, 0.38490017933781, -0.192450089668905]\n",
      "f(x_t) = -0.055555555555555546\n",
      "\n",
      "t = 36 :\n",
      "x_t = [0.5773502691286555, 0.38490017939878024, -0.19245008969939012]\n",
      "f(x_t) = -0.055555555555555546\n",
      "\n",
      "t = 37 :\n",
      "x_t = [0.5773502691591407, 0.3849001794292654, -0.1924500897146327]\n",
      "f(x_t) = -0.05555555555555556\n",
      "\n",
      "t = 38 :\n",
      "x_t = [0.5773502691743833, 0.384900179444508, -0.192450089722254]\n",
      "f(x_t) = -0.05555555555555556\n",
      "\n",
      "t = 39 :\n",
      "x_t = [0.5773502691820045, 0.38490017945212923, -0.19245008972606462]\n",
      "f(x_t) = -0.05555555555555558\n",
      "\n",
      "t = 40 :\n",
      "x_t = [0.5773502691858151, 0.38490017945593985, -0.19245008972796993]\n",
      "f(x_t) = -0.05555555555555555\n",
      "\n",
      "t = 41 :\n",
      "x_t = [0.5773502691877205, 0.3849001794578452, -0.1924500897289226]\n",
      "f(x_t) = -0.05555555555555553\n",
      "\n",
      "t = 42 :\n",
      "x_t = [0.5773502691886732, 0.3849001794587979, -0.19245008972939895]\n",
      "f(x_t) = -0.05555555555555555\n",
      "\n",
      "t = 43 :\n",
      "x_t = [0.5773502691891494, 0.3849001794592742, -0.1924500897296371]\n",
      "f(x_t) = -0.05555555555555556\n",
      "\n",
      "t = 44 :\n",
      "x_t = [0.5773502691893876, 0.3849001794595123, -0.19245008972975616]\n",
      "f(x_t) = -0.055555555555555566\n",
      "\n",
      "t = 45 :\n",
      "x_t = [0.5773502691895067, 0.38490017945963145, -0.19245008972981573]\n",
      "f(x_t) = -0.055555555555555566\n",
      "\n",
      "t = 46 :\n",
      "x_t = [0.5773502691895662, 0.38490017945969096, -0.19245008972984548]\n",
      "f(x_t) = -0.05555555555555553\n",
      "\n",
      "t = 47 :\n",
      "x_t = [0.577350269189596, 0.3849001794597207, -0.19245008972986036]\n",
      "f(x_t) = -0.055555555555555566\n",
      "\n",
      "t = 48 :\n",
      "x_t = [0.5773502691896109, 0.3849001794597356, -0.1924500897298678]\n",
      "f(x_t) = -0.055555555555555546\n",
      "\n",
      "t = 49 :\n",
      "x_t = [0.5773502691896183, 0.38490017945974303, -0.19245008972987152]\n",
      "f(x_t) = -0.05555555555555556\n",
      "\n",
      "t = 50 :\n",
      "x_t = [0.5773502691896221, 0.3849001794597468, -0.1924500897298734]\n",
      "f(x_t) = -0.05555555555555554\n",
      "\n",
      "t = 51 :\n",
      "x_t = [0.577350269189624, 0.3849001794597487, -0.19245008972987435]\n",
      "f(x_t) = -0.055555555555555566\n",
      "\n",
      "t = 52 :\n",
      "x_t = [0.5773502691896248, 0.3849001794597496, -0.1924500897298748]\n",
      "f(x_t) = -0.055555555555555546\n",
      "\n",
      "t = 53 :\n",
      "x_t = [0.5773502691896253, 0.38490017945975, -0.192450089729875]\n",
      "f(x_t) = -0.05555555555555557\n",
      "\n",
      "t = 54 :\n",
      "x_t = [0.5773502691896255, 0.38490017945975025, -0.19245008972987512]\n",
      "f(x_t) = -0.05555555555555556\n",
      "\n",
      "t = 55 :\n",
      "x_t = [0.5773502691896256, 0.38490017945975036, -0.19245008972987518]\n",
      "f(x_t) = -0.05555555555555555\n",
      "\n",
      "t = 56 :\n",
      "x_t = [0.5773502691896257, 0.38490017945975047, -0.19245008972987523]\n",
      "f(x_t) = -0.055555555555555546\n",
      "\n",
      "t = 57 :\n",
      "x_t = [0.5773502691896257, 0.38490017945975047, -0.19245008972987523]\n",
      "f(x_t) = -0.055555555555555546\n",
      "\n",
      "t = 58 :\n",
      "x_t = [0.5773502691896257, 0.38490017945975047, -0.19245008972987523]\n",
      "f(x_t) = -0.055555555555555546\n",
      "\n",
      "t = 59 :\n",
      "x_t = [0.5773502691896257, 0.38490017945975047, -0.19245008972987523]\n",
      "f(x_t) = -0.055555555555555546\n",
      "\n",
      "t = 60 :\n",
      "x_t = [0.5773502691896257, 0.38490017945975047, -0.19245008972987523]\n",
      "f(x_t) = -0.055555555555555546\n",
      "\n",
      "t = 61 :\n",
      "x_t = [0.5773502691896257, 0.38490017945975047, -0.19245008972987523]\n",
      "f(x_t) = -0.055555555555555546\n",
      "\n",
      "t = 62 :\n",
      "x_t = [0.5773502691896257, 0.38490017945975047, -0.19245008972987523]\n",
      "f(x_t) = -0.055555555555555546\n",
      "\n",
      "t = 63 :\n",
      "x_t = [0.5773502691896257, 0.38490017945975047, -0.19245008972987523]\n",
      "f(x_t) = -0.055555555555555546\n",
      "\n",
      "t = 64 :\n",
      "x_t = [0.5773502691896257, 0.38490017945975047, -0.19245008972987523]\n",
      "f(x_t) = -0.055555555555555546\n",
      "\n",
      "t = 65 :\n",
      "x_t = [0.5773502691896257, 0.38490017945975047, -0.19245008972987523]\n",
      "f(x_t) = -0.055555555555555546\n",
      "\n",
      "t = 66 :\n",
      "x_t = [0.5773502691896257, 0.38490017945975047, -0.19245008972987523]\n",
      "f(x_t) = -0.055555555555555546\n",
      "\n",
      "t = 67 :\n",
      "x_t = [0.5773502691896257, 0.38490017945975047, -0.19245008972987523]\n",
      "f(x_t) = -0.055555555555555546\n",
      "\n",
      "t = 68 :\n",
      "x_t = [0.5773502691896257, 0.38490017945975047, -0.19245008972987523]\n",
      "f(x_t) = -0.055555555555555546\n",
      "\n",
      "t = 69 :\n",
      "x_t = [0.5773502691896257, 0.38490017945975047, -0.19245008972987523]\n",
      "f(x_t) = -0.055555555555555546\n",
      "\n",
      "t = 70 :\n",
      "x_t = [0.5773502691896257, 0.38490017945975047, -0.19245008972987523]\n",
      "f(x_t) = -0.055555555555555546\n",
      "\n",
      "t = 71 :\n",
      "x_t = [0.5773502691896257, 0.38490017945975047, -0.19245008972987523]\n",
      "f(x_t) = -0.055555555555555546\n",
      "\n",
      "t = 72 :\n",
      "x_t = [0.5773502691896257, 0.38490017945975047, -0.19245008972987523]\n",
      "f(x_t) = -0.055555555555555546\n",
      "\n",
      "t = 73 :\n",
      "x_t = [0.5773502691896257, 0.38490017945975047, -0.19245008972987523]\n",
      "f(x_t) = -0.055555555555555546\n",
      "\n",
      "t = 74 :\n",
      "x_t = [0.5773502691896257, 0.38490017945975047, -0.19245008972987523]\n",
      "f(x_t) = -0.055555555555555546\n",
      "\n",
      "t = 75 :\n",
      "x_t = [0.5773502691896257, 0.38490017945975047, -0.19245008972987523]\n",
      "f(x_t) = -0.055555555555555546\n",
      "\n",
      "t = 76 :\n",
      "x_t = [0.5773502691896257, 0.38490017945975047, -0.19245008972987523]\n",
      "f(x_t) = -0.055555555555555546\n",
      "\n",
      "t = 77 :\n",
      "x_t = [0.5773502691896257, 0.38490017945975047, -0.19245008972987523]\n",
      "f(x_t) = -0.055555555555555546\n",
      "\n",
      "t = 78 :\n",
      "x_t = [0.5773502691896257, 0.38490017945975047, -0.19245008972987523]\n",
      "f(x_t) = -0.055555555555555546\n",
      "\n",
      "t = 79 :\n",
      "x_t = [0.5773502691896257, 0.38490017945975047, -0.19245008972987523]\n",
      "f(x_t) = -0.055555555555555546\n",
      "\n",
      "t = 80 :\n",
      "x_t = [0.5773502691896257, 0.38490017945975047, -0.19245008972987523]\n",
      "f(x_t) = -0.055555555555555546\n",
      "\n",
      "t = 81 :\n",
      "x_t = [0.5773502691896257, 0.38490017945975047, -0.19245008972987523]\n",
      "f(x_t) = -0.055555555555555546\n",
      "\n",
      "t = 82 :\n",
      "x_t = [0.5773502691896257, 0.38490017945975047, -0.19245008972987523]\n",
      "f(x_t) = -0.055555555555555546\n",
      "\n",
      "t = 83 :\n",
      "x_t = [0.5773502691896257, 0.38490017945975047, -0.19245008972987523]\n",
      "f(x_t) = -0.055555555555555546\n",
      "\n",
      "t = 84 :\n",
      "x_t = [0.5773502691896257, 0.38490017945975047, -0.19245008972987523]\n",
      "f(x_t) = -0.055555555555555546\n",
      "\n",
      "t = 85 :\n",
      "x_t = [0.5773502691896257, 0.38490017945975047, -0.19245008972987523]\n",
      "f(x_t) = -0.055555555555555546\n",
      "\n",
      "t = 86 :\n",
      "x_t = [0.5773502691896257, 0.38490017945975047, -0.19245008972987523]\n",
      "f(x_t) = -0.055555555555555546\n",
      "\n",
      "t = 87 :\n",
      "x_t = [0.5773502691896257, 0.38490017945975047, -0.19245008972987523]\n",
      "f(x_t) = -0.055555555555555546\n",
      "\n",
      "t = 88 :\n",
      "x_t = [0.5773502691896257, 0.38490017945975047, -0.19245008972987523]\n",
      "f(x_t) = -0.055555555555555546\n",
      "\n",
      "t = 89 :\n",
      "x_t = [0.5773502691896257, 0.38490017945975047, -0.19245008972987523]\n",
      "f(x_t) = -0.055555555555555546\n",
      "\n",
      "t = 90 :\n",
      "x_t = [0.5773502691896257, 0.38490017945975047, -0.19245008972987523]\n",
      "f(x_t) = -0.055555555555555546\n",
      "\n",
      "t = 91 :\n",
      "x_t = [0.5773502691896257, 0.38490017945975047, -0.19245008972987523]\n",
      "f(x_t) = -0.055555555555555546\n",
      "\n",
      "t = 92 :\n",
      "x_t = [0.5773502691896257, 0.38490017945975047, -0.19245008972987523]\n",
      "f(x_t) = -0.055555555555555546\n",
      "\n",
      "t = 93 :\n",
      "x_t = [0.5773502691896257, 0.38490017945975047, -0.19245008972987523]\n",
      "f(x_t) = -0.055555555555555546\n",
      "\n",
      "t = 94 :\n",
      "x_t = [0.5773502691896257, 0.38490017945975047, -0.19245008972987523]\n",
      "f(x_t) = -0.055555555555555546\n",
      "\n",
      "t = 95 :\n",
      "x_t = [0.5773502691896257, 0.38490017945975047, -0.19245008972987523]\n",
      "f(x_t) = -0.055555555555555546\n",
      "\n",
      "t = 96 :\n",
      "x_t = [0.5773502691896257, 0.38490017945975047, -0.19245008972987523]\n",
      "f(x_t) = -0.055555555555555546\n",
      "\n",
      "t = 97 :\n",
      "x_t = [0.5773502691896257, 0.38490017945975047, -0.19245008972987523]\n",
      "f(x_t) = -0.055555555555555546\n",
      "\n",
      "t = 98 :\n",
      "x_t = [0.5773502691896257, 0.38490017945975047, -0.19245008972987523]\n",
      "f(x_t) = -0.055555555555555546\n",
      "\n",
      "t = 99 :\n",
      "x_t = [0.5773502691896257, 0.38490017945975047, -0.19245008972987523]\n",
      "f(x_t) = -0.055555555555555546\n",
      "\n",
      "t = 100 :\n",
      "x_t = [0.5773502691896257, 0.38490017945975047, -0.19245008972987523]\n",
      "f(x_t) = -0.055555555555555546\n",
      "\n"
     ]
    }
   ],
   "source": [
    "x_0=[1,20,5]\n",
    "coordinate_descent(f, argmin, x_0, 100);"
   ]
  },
  {
   "cell_type": "markdown",
   "metadata": {},
   "source": [
    "## 3 Regression - polynomial features"
   ]
  },
  {
   "cell_type": "markdown",
   "metadata": {},
   "source": [
    "#### 3.a\n",
    "\n",
    "In this exercise we will be using the California housing dataset from sklearn.\n",
    "\n",
    "We will compute the desing matrix for this dataset using a polynomial with degree 2, using the function PolynomialFeatures from sklearn.preprocessing. Because the data given has values in different big ranges, this function cannot compute the values for the matrix properly. To solve this what we do is standardize the data using the function StandardScaler from sklearn.preprocessing."
   ]
  },
  {
   "cell_type": "code",
   "execution_count": 15,
   "metadata": {},
   "outputs": [],
   "source": [
    "\n",
    "import scipy as sp\n",
    "from sklearn.datasets import fetch_california_housing\n",
    "from sklearn.preprocessing import PolynomialFeatures,StandardScaler"
   ]
  },
  {
   "cell_type": "code",
   "execution_count": 16,
   "metadata": {},
   "outputs": [
    {
     "name": "stdout",
     "output_type": "stream",
     "text": [
      "20640 8\n"
     ]
    }
   ],
   "source": [
    "# Creating the data matrix\n",
    "california = fetch_california_housing()\n",
    "D = california.data\n",
    "y = california.target\n",
    "n,d = D.shape\n",
    "print(n,d)\n"
   ]
  },
  {
   "cell_type": "code",
   "execution_count": 17,
   "metadata": {},
   "outputs": [
    {
     "name": "stdout",
     "output_type": "stream",
     "text": [
      "['1' 'MedInc' 'HouseAge' 'AveRooms' 'AveBedrms' 'Population' 'AveOccup'\n",
      " 'Latitude' 'Longitude' 'MedInc^2' 'MedInc HouseAge' 'MedInc AveRooms'\n",
      " 'MedInc AveBedrms' 'MedInc Population' 'MedInc AveOccup'\n",
      " 'MedInc Latitude' 'MedInc Longitude' 'HouseAge^2' 'HouseAge AveRooms'\n",
      " 'HouseAge AveBedrms' 'HouseAge Population' 'HouseAge AveOccup'\n",
      " 'HouseAge Latitude' 'HouseAge Longitude' 'AveRooms^2'\n",
      " 'AveRooms AveBedrms' 'AveRooms Population' 'AveRooms AveOccup'\n",
      " 'AveRooms Latitude' 'AveRooms Longitude' 'AveBedrms^2'\n",
      " 'AveBedrms Population' 'AveBedrms AveOccup' 'AveBedrms Latitude'\n",
      " 'AveBedrms Longitude' 'Population^2' 'Population AveOccup'\n",
      " 'Population Latitude' 'Population Longitude' 'AveOccup^2'\n",
      " 'AveOccup Latitude' 'AveOccup Longitude' 'Latitude^2'\n",
      " 'Latitude Longitude' 'Longitude^2']\n"
     ]
    }
   ],
   "source": [
    "# Creating a design matrix with polynomial standardized features\n",
    "aff = PolynomialFeatures(2,include_bias=True)\n",
    "scaler = StandardScaler()\n",
    "X = aff.fit_transform(scaler.fit_transform(D))\n",
    "features = aff.get_feature_names_out(california.feature_names)\n",
    "print(features)"
   ]
  },
  {
   "cell_type": "markdown",
   "metadata": {},
   "source": [
    "Next, we will compute the regression model minimizing the RSS for the polynomial\n",
    "design matrix. To minimize RSS, we solve the system of equations given by ∇(RSS)=0"
   ]
  },
  {
   "cell_type": "code",
   "execution_count": 18,
   "metadata": {},
   "outputs": [
    {
     "data": {
      "text/plain": [
       "array([ 1.95724199,  0.92243689,  0.1322746 , -0.39583612,  0.56212582,\n",
       "        0.03851036, -1.68052409, -1.27092793, -1.16447981, -0.11299565,\n",
       "        0.04446976,  0.20353088, -0.16758436,  0.12323738, -0.05110633,\n",
       "       -0.61882733, -0.54901295,  0.03353488, -0.03930124,  0.06328855,\n",
       "        0.04017423, -0.23751839, -0.27066427, -0.25213086,  0.04449819,\n",
       "       -0.08079146, -0.19118335,  0.69090139,  0.46243774,  0.40789392,\n",
       "        0.03597354,  0.2759851 , -0.42913941, -0.44237578, -0.38372053,\n",
       "        0.00351097,  0.22514157,  0.05551793,  0.03325349,  0.00940107,\n",
       "        0.47326301,  0.33794513,  0.28233172,  0.46261665,  0.16018745])"
      ]
     },
     "execution_count": 18,
     "metadata": {},
     "output_type": "execute_result"
    }
   ],
   "source": [
    "\n",
    "beta = sp.linalg.solve(X.T@X,X.T@y)\n",
    "beta"
   ]
  },
  {
   "cell_type": "code",
   "execution_count": 19,
   "metadata": {},
   "outputs": [
    {
     "name": "stdout",
     "output_type": "stream",
     "text": [
      "[0.92243689]\n",
      "[-0.16758436]\n",
      "[0.06328855]\n"
     ]
    }
   ],
   "source": [
    "# Fetch beta values for given features\n",
    "print(beta[np.where(features == \"MedInc\")])\n",
    "print(beta[np.where(features == \"MedInc AveBedrms\")])\n",
    "print(beta[np.where(features == \"HouseAge AveBedrms\")])"
   ]
  },
  {
   "cell_type": "markdown",
   "metadata": {},
   "source": [
    "#### 3.b\n",
    "\n",
    "In this subexercise we will repeat what we did in 3.a, in this case using ridge regression with the following objective: \\\n",
    "min f(β) = min 1/n*‖y-Xβ‖²+λ‖β‖²"
   ]
  },
  {
   "cell_type": "code",
   "execution_count": 20,
   "metadata": {},
   "outputs": [
    {
     "data": {
      "text/plain": [
       "array([ 1.45624916,  0.71957545,  0.14820683, -0.14838337,  0.00862983,\n",
       "       -0.00186671, -0.17832345, -0.47130572, -0.33996516, -0.02359837,\n",
       "        0.05021859,  0.12503662, -0.09998862,  0.05668295, -0.03998195,\n",
       "       -0.06939659, -0.05699217,  0.15959297, -0.0215094 ,  0.0092316 ,\n",
       "        0.01565444, -0.0450344 , -0.03672704, -0.00781034,  0.06979771,\n",
       "       -0.11923069, -0.09952622,  0.05196717,  0.06136376,  0.00995201,\n",
       "        0.04975143,  0.01407802,  0.00709968, -0.00351464,  0.03412183,\n",
       "        0.00363   ,  0.02554756,  0.03123771,  0.00882566,  0.0015518 ,\n",
       "        0.03225161, -0.01687138,  0.04437523, -0.03313319,  0.17547435])"
      ]
     },
     "execution_count": 20,
     "metadata": {},
     "output_type": "execute_result"
    }
   ],
   "source": [
    "# Minimize Objective function f(β)=1/n*‖y-Xβ‖²+λ‖β‖² by solving the system of equations \n",
    "# given by ∇(f(β))=0 for λ=0.1\n",
    "p = X.shape[1]\n",
    "beta_b = sp.linalg.solve(X.T@X+n*0.1*np.eye(p),X.T@y)\n",
    "beta_b"
   ]
  },
  {
   "cell_type": "code",
   "execution_count": 21,
   "metadata": {},
   "outputs": [
    {
     "name": "stdout",
     "output_type": "stream",
     "text": [
      "[0.71957545]\n",
      "[-0.09998862]\n",
      "[0.0092316]\n"
     ]
    }
   ],
   "source": [
    "# Fetch beta values for given features\n",
    "print(beta_b[np.where(features == \"MedInc\")])\n",
    "print(beta_b[np.where(features == \"MedInc AveBedrms\")])\n",
    "print(beta_b[np.where(features == \"HouseAge AveBedrms\")])"
   ]
  },
  {
   "cell_type": "markdown",
   "metadata": {},
   "source": [
    "## Bias-var trade \n",
    "\n",
    "In this exercise we will compute the bias² and variance of the given regression models: \n",
    "<ul>\n",
    "<li> True regression function: f*(x)=tan(πx)\n",
    "    <li> Fitted three regression models on the i.i.d. data samples D1,D2,D3 obtaining:\n",
    "​    <ul>\n",
    "        <li> f₁(x) = x + 0.2\n",
    "        <li> f₂(x) = 3x + 0.3\n",
    "        <li> f₃(x) = 5x + 0.1\n",
    "    <ul>    \n",
    "<ul>\n",
    " "
   ]
  },
  {
   "cell_type": "code",
   "execution_count": 22,
   "metadata": {},
   "outputs": [],
   "source": [
    "import matplotlib.pyplot as plt"
   ]
  },
  {
   "cell_type": "markdown",
   "metadata": {},
   "source": [
    "First we define functions to evaluate f*, f1, f2 and f3"
   ]
  },
  {
   "cell_type": "code",
   "execution_count": 23,
   "metadata": {},
   "outputs": [],
   "source": [
    "def fstar(x): return np.tan(np.pi*x)\n",
    "def fd1(x): return x + 0.2\n",
    "def fd2(x): return 3*x + 0.3\n",
    "def fd3(x): return 5*x + 0.1"
   ]
  },
  {
   "cell_type": "markdown",
   "metadata": {},
   "source": [
    "Lets plot the function to have and idea of how the regression functions fit the true function."
   ]
  },
  {
   "cell_type": "code",
   "execution_count": 24,
   "metadata": {},
   "outputs": [
    {
     "data": {
      "text/plain": [
       "<matplotlib.legend.Legend at 0x7fd656ee2fd0>"
      ]
     },
     "execution_count": 24,
     "metadata": {},
     "output_type": "execute_result"
    },
    {
     "data": {
      "image/png": "[encoded data removed]",
      "text/plain": [
       "<Figure size 640x480 with 1 Axes>"
      ]
     },
     "metadata": {},
     "output_type": "display_data"
    }
   ],
   "source": [
    "plt.figure()\n",
    "x = np.linspace(-0.4,0.4)\n",
    "\n",
    "plt.plot(x,fstar(x), label='f*')\n",
    "plt.plot(x,fd1(x), label='f1')\n",
    "plt.plot(x,fd2(x), label='f2')\n",
    "plt.plot(x,fd3(x), label='f3')\n",
    "plt.legend()"
   ]
  },
  {
   "cell_type": "markdown",
   "metadata": {},
   "source": [
    "Finally, lets compute for x₀=0 the bias² and the variance of the models."
   ]
  },
  {
   "cell_type": "code",
   "execution_count": 25,
   "metadata": {},
   "outputs": [
    {
     "name": "stdout",
     "output_type": "stream",
     "text": [
      "0.039999999999999994\n",
      "0.006666666666666665\n"
     ]
    }
   ],
   "source": [
    "fdx0 = np.array([fd1(0),fd2(0),fd3(0)])\n",
    "E = np.mean(fdx0)\n",
    "bias = (fstar(0)-E)\n",
    "var = np.mean((E-fdx0)**2)\n",
    "\n",
    "print(bias**2)\n",
    "print(var)"
   ]
  },
  {
   "cell_type": "markdown",
   "metadata": {},
   "source": [
    "## Naive Bayes - 20news\n",
    "From the 20Newsgroups dataset we fetch the documents belonging to three categories, which we use as classes."
   ]
  },
  {
   "cell_type": "code",
   "execution_count": 26,
   "metadata": {},
   "outputs": [],
   "source": [
    "from sklearn.datasets import fetch_20newsgroups\n",
    "categories = ['alt.atheism', 'talk.politics.guns',\n",
    "              'sci.space']"
   ]
  },
  {
   "cell_type": "code",
   "execution_count": 27,
   "metadata": {},
   "outputs": [],
   "source": [
    "train = fetch_20newsgroups(subset='train', categories=categories)\n",
    "test = fetch_20newsgroups(subset='test', categories=categories)"
   ]
  },
  {
   "cell_type": "markdown",
   "metadata": {},
   "source": [
    "For example, the first document in the training data is the following one:"
   ]
  },
  {
   "cell_type": "code",
   "execution_count": 28,
   "metadata": {},
   "outputs": [
    {
     "name": "stdout",
     "output_type": "stream",
     "text": [
      "From: fcrary@ucsu.Colorado.EDU (Frank Crary)\n",
      "Subject: Re: Riddle me this...\n",
      "Nntp-Posting-Host: ucsu.colorado.edu\n",
      "Organization: University of Colorado, Boulder\n",
      "Distribution: usa\n",
      "Lines: 16\n",
      "\n",
      "In article <1r1lp1INN752@mojo.eng.umd.edu> chuck@eng.umd.edu (Chuck Harris - WA3UQV) writes:\n",
      ">>If so, why was CS often employed against tunnels in Vietnam?\n",
      "\n",
      ">CS \"tear-gas\" was used in Vietnam because it makes you wretch so hard that\n",
      ">your stomach comes out thru your throat.  Well, not quite that bad, but\n",
      ">you can't really do much to defend yourself while you are blowing cookies.\n",
      "\n",
      "I think the is BZ gas, not CS or CN. BZ gas exposure results in projectile\n",
      "vomiting, loss of essentially all muscle control, inability to concentrate\n",
      "or think rationally and fatal reactions in a significant fraction of\n",
      "the population. For that reason its use is limited to military\n",
      "applications.\n",
      "\n",
      "                                                          Frank Crary\n",
      "                                                          CU Boulder\n",
      " \n",
      "\n"
     ]
    }
   ],
   "source": [
    "print(train.data[0])"
   ]
  },
  {
   "cell_type": "markdown",
   "metadata": {},
   "source": [
    "The classes are indicated categorically with indices from zero to two by the target vector. The target names tell us which index belongs to which class."
   ]
  },
  {
   "cell_type": "code",
   "execution_count": 29,
   "metadata": {},
   "outputs": [
    {
     "data": {
      "text/plain": [
       "array([2, 2, 1, ..., 1, 2, 2])"
      ]
     },
     "execution_count": 29,
     "metadata": {},
     "output_type": "execute_result"
    }
   ],
   "source": [
    "y_train = train.target\n",
    "y_train"
   ]
  },
  {
   "cell_type": "code",
   "execution_count": 30,
   "metadata": {},
   "outputs": [
    {
     "data": {
      "text/plain": [
       "['alt.atheism', 'sci.space', 'talk.politics.guns']"
      ]
     },
     "execution_count": 30,
     "metadata": {},
     "output_type": "execute_result"
    }
   ],
   "source": [
    "train.target_names"
   ]
  },
  {
   "cell_type": "markdown",
   "metadata": {},
   "source": [
    "We represent the documents in a bag of word format. That is, we create a data matrix ``D`` such that ``D[j,i]=1`` if the j-th document contains the i-th feature (word), and ``D[j,i]=0`` otherwise. "
   ]
  },
  {
   "cell_type": "code",
   "execution_count": 31,
   "metadata": {},
   "outputs": [],
   "source": [
    "from sklearn.feature_extraction.text import CountVectorizer\n",
    "vectorizer = CountVectorizer(stop_words=\"english\", min_df=5,token_pattern=\"[^\\W\\d_]+\", binary=True)\n",
    "D = vectorizer.fit_transform(train.data)\n",
    "D_test = vectorizer.transform(test.data)"
   ]
  },
  {
   "cell_type": "markdown",
   "metadata": {},
   "source": [
    "We get the allocation of feature indices to words by the following array, containing the vocabulary.\n"
   ]
  },
  {
   "cell_type": "code",
   "execution_count": 32,
   "metadata": {},
   "outputs": [
    {
     "data": {
      "text/plain": [
       "array(['aa', 'aario', 'aaron', ..., 'zoology', 'zv', 'ÿ'], dtype=object)"
      ]
     },
     "execution_count": 32,
     "metadata": {},
     "output_type": "execute_result"
    }
   ],
   "source": [
    "vectorizer.get_feature_names_out()"
   ]
  },
  {
   "cell_type": "markdown",
   "metadata": {},
   "source": [
    "For example, the word `naive` has the index 4044."
   ]
  },
  {
   "cell_type": "code",
   "execution_count": 33,
   "metadata": {},
   "outputs": [
    {
     "data": {
      "text/plain": [
       "array([4044])"
      ]
     },
     "execution_count": 33,
     "metadata": {},
     "output_type": "execute_result"
    }
   ],
   "source": [
    "np.where(vectorizer.get_feature_names_out() == 'naive')[0]"
   ]
  },
  {
   "cell_type": "markdown",
   "metadata": {},
   "source": [
    "#### 5.a\n",
    "First lets compute the class prior probabilities p(y):\n"
   ]
  },
  {
   "cell_type": "code",
   "execution_count": 34,
   "metadata": {},
   "outputs": [
    {
     "data": {
      "text/plain": [
       "(0.2964793082149475, 0.3662754786905497, 0.3372452130945028)"
      ]
     },
     "execution_count": 34,
     "metadata": {},
     "output_type": "execute_result"
    }
   ],
   "source": [
    "y_train_0 = np.array([x for x in y_train if x == 0])\n",
    "y_train_1 = np.array([x for x in y_train if x == 1])\n",
    "y_train_2 = np.array([x for x in y_train if x == 2])\n",
    "\n",
    "p_train_0 = y_train_0.size / y_train.size\n",
    "p_train_1 = y_train_1.size / y_train.size\n",
    "p_train_2 = y_train_2.size / y_train.size\n",
    "\n",
    "p_train_0, p_train_1, p_train_2"
   ]
  },
  {
   "cell_type": "markdown",
   "metadata": {},
   "source": [
    "#### 5.b\n",
    "Lets continue by computing the log-probabilities of the word 'naive' given each class, using Laplace smoothing with α=1e-5"
   ]
  },
  {
   "cell_type": "code",
   "execution_count": 35,
   "metadata": {},
   "outputs": [
    {
     "data": {
      "text/plain": [
       "array([-4.56448951, -6.38530041, -4.91644811])"
      ]
     },
     "execution_count": 35,
     "metadata": {},
     "output_type": "execute_result"
    }
   ],
   "source": [
    "alpha = 1e-5\n",
    "# Count number of documents of each class in the training set\n",
    "I_0 = np.where(y_train == 0)[0]\n",
    "I_1 = np.where(y_train == 1)[0]\n",
    "I_2 = np.where(y_train == 2)[0]\n",
    "\n",
    "# Count number of documents per class which includes the word 'naive'\n",
    "class_counts = {0: 0, 1: 0, 2: 0}\n",
    "for i in range(y_train.size):\n",
    "    if D[i, 4044] == 1:\n",
    "        class_counts[y_train[i]] += 1\n",
    "\n",
    "K = vectorizer.get_feature_names_out().size\n",
    "\n",
    "p_train_0 = (class_counts[0] + alpha) / (I_0.size + alpha * K)\n",
    "p_train_1 = (class_counts[1] + alpha) / (I_1.size + alpha * K)\n",
    "p_train_2 = (class_counts[2] + alpha) / (I_2.size + alpha * K)\n",
    "\n",
    "np.log(np.array([p_train_0, p_train_1, p_train_2]))"
   ]
  },
  {
   "cell_type": "markdown",
   "metadata": {},
   "source": [
    "#### 5.c\n",
    "Finally, we will compute the class-conditioned log-probabilities for each word and class combination for the first document in the training dataset, using the naive Bayes algorithm."
   ]
  },
  {
   "cell_type": "code",
   "execution_count": 36,
   "metadata": {},
   "outputs": [
    {
     "data": {
      "text/plain": [
       "(-362.54772451864125, -381.4478315382202, -193.47950987244982)"
      ]
     },
     "execution_count": 36,
     "metadata": {},
     "output_type": "execute_result"
    }
   ],
   "source": [
    "alpha = 1e-5\n",
    "# Count number of documents of each class in the training set\n",
    "I_0 = np.where(y_train == 0)[0]\n",
    "I_1 = np.where(y_train == 1)[0]\n",
    "I_2 = np.where(y_train == 2)[0]\n",
    "\n",
    "# log p(y=c)\n",
    "y_train_0 = np.array([x for x in y_train if x == 0])\n",
    "y_train_1 = np.array([x for x in y_train if x == 1])\n",
    "y_train_2 = np.array([x for x in y_train if x == 2])\n",
    "\n",
    "log_p_train_0 = np.log(y_train_0.size / y_train.size)\n",
    "log_p_train_1 = np.log(y_train_1.size / y_train.size)\n",
    "log_p_train_2 = np.log(y_train_2.size / y_train.size)\n",
    "\n",
    "# p(xd = xdtest | y = c)\n",
    "counts = {}\n",
    "num_words = vectorizer.get_feature_names_out().size\n",
    "train_size = y_train.size\n",
    "for w in range(num_words):\n",
    "    counts[w, 0] = 0\n",
    "    counts[w, 1] = 0\n",
    "    counts[w, 2] = 0\n",
    "for w in range(num_words):\n",
    "    for i in range(train_size):\n",
    "        if D[i,w] == 1:\n",
    "            counts[w, y_train[i]] += 1\n",
    "\n",
    "# log p(y=c)+sum(log(p(xd = xdtest | y = c)))\n",
    "for w in range(num_words):\n",
    "    if D[0, w] == 1:\n",
    "        log_p_train_0 += np.log((counts[w, 0] + alpha) / (I_0.size + alpha * num_words))\n",
    "        log_p_train_1 += np.log((counts[w, 1] + alpha) / (I_1.size + alpha * num_words))\n",
    "        log_p_train_2 += np.log((counts[w, 2] + alpha) / (I_2.size + alpha * num_words))\n",
    "\n",
    "log_p_train_0, log_p_train_1, log_p_train_2"
   ]
  },
  {
   "cell_type": "markdown",
   "metadata": {},
   "source": [
    "## Decision tree \n",
    "Decision tree on iris dataset."
   ]
  },
  {
   "cell_type": "code",
   "execution_count": 2,
   "metadata": {},
   "outputs": [],
   "source": [
    "import numpy as np\n",
    "import sklearn\n",
    "from sklearn.datasets import load_iris\n",
    "iris = load_iris()\n",
    "D, y = iris.data, iris.target"
   ]
  },
  {
   "cell_type": "markdown",
   "metadata": {},
   "source": [
    "#### 6a\n",
    "We find the different probabilities in the root node, and apply the following formula to find the Gini impurity:\n",
    "$$G = 1 - \\sum\\limits_y p(y)^2$$"
   ]
  },
  {
   "cell_type": "code",
   "execution_count": 3,
   "metadata": {},
   "outputs": [
    {
     "name": "stdout",
     "output_type": "stream",
     "text": [
      "0.6666666666666667\n"
     ]
    }
   ],
   "source": [
    "root_lables = y\n",
    "\n",
    "# Total number of instances in the dataset\n",
    "root_total = len(root_lables)\n",
    "\n",
    "# Calculate number of entries for each class\n",
    "unique_classes, class_counts = np.unique(root_lables, return_counts=True)\n",
    "\n",
    "# Calculate probabilities for each class\n",
    "probabilities = (class_counts / root_total)\n",
    "\n",
    "impurity_root = 1 - np.sum(probabilities**2)\n",
    "print(impurity_root)"
   ]
  },
  {
   "cell_type": "markdown",
   "metadata": {},
   "source": [
    "#### 6b\n",
    "We now first divide into the left and right leaf and compute the probabilities and gini impurity for each. \n",
    "The the cost is simply\n",
    "$$\\left( \\frac{N_0}{N} \\text{impurity}(L0) + \\frac{N_1}{N} \\text{impurity}(L1) \\right) - \\text{impurity}(L) $$\n",
    "where L0, L1, L are the left leaf, right leaf and root respectively."
   ]
  },
  {
   "cell_type": "code",
   "execution_count": 5,
   "metadata": {},
   "outputs": [
    {
     "name": "stdout",
     "output_type": "stream",
     "text": [
      "-0.17476190476190478\n"
     ]
    }
   ],
   "source": [
    "split_cond = 5.84\n",
    "total_instances = len(D)\n",
    "\n",
    "# Split the dataset based on the sepal length\n",
    "left_leaf= np.where(D[:, 0] <= split_cond)\n",
    "right_leaf= np.where(D[:, 0] > split_cond)\n",
    "\n",
    "left_lables = y[left_leaf]\n",
    "right_lables = y[right_leaf]\n",
    "\n",
    "# Calculate number of entries for each class and probabilities\n",
    "left_total = len(left_lables)\n",
    "unique_classes, class_count_left = np.unique(left_lables, return_counts=True)\n",
    "left_probabilities = (class_count_left / len(left_lables))\n",
    "impurity_left = 1 - np.sum(left_probabilities**2)\n",
    "\n",
    "right_total = len(right_lables)\n",
    "unique_classes, class_count_right = np.unique(right_lables, return_counts=True)\n",
    "right_probabilities = (class_count_right / len(right_lables))\n",
    "impurity_right = 1 - np.sum(right_probabilities**2)\n",
    "\n",
    "cost = (left_total / root_total) * impurity_left + (right_total / root_total) * impurity_right - impurity_root\n",
    "print(cost)\n"
   ]
  }
 ],
 "metadata": {
  "kernelspec": {
   "display_name": "Python 3 (ipykernel)",
   "language": "python",
   "name": "python3"
  },
  "language_info": {
   "codemirror_mode": {
    "name": "ipython",
    "version": 3
   },
   "file_extension": ".py",
   "mimetype": "text/x-python",
   "name": "python",
   "nbconvert_exporter": "python",
   "pygments_lexer": "ipython3",
   "version": "3.11.6"
  }
 },
 "nbformat": 4,
 "nbformat_minor": 2
}
