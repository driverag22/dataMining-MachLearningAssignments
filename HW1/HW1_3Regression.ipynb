{
 "cells": [
  {
   "cell_type": "code",
   "execution_count": 8,
   "metadata": {},
   "outputs": [],
   "source": [
    "import numpy as np\n",
    "import scipy as sp\n",
    "from sklearn.datasets import fetch_california_housing\n",
    "from sklearn.preprocessing import PolynomialFeatures,StandardScaler\n"
   ]
  },
  {
   "cell_type": "code",
   "execution_count": 9,
   "metadata": {},
   "outputs": [
    {
     "name": "stdout",
     "output_type": "stream",
     "text": [
      "20640 8\n"
     ]
    }
   ],
   "source": [
    "# Creating the data matrix\n",
    "california = fetch_california_housing()\n",
    "D = california.data\n",
    "y = california.target\n",
    "n,d = D.shape\n",
    "print(n,d)\n"
   ]
  },
  {
   "cell_type": "code",
   "execution_count": 10,
   "metadata": {},
   "outputs": [
    {
     "data": {
      "text/plain": [
       "array(['1', 'MedInc', 'HouseAge', 'AveRooms', 'AveBedrms', 'Population',\n",
       "       'AveOccup', 'Latitude', 'Longitude', 'MedInc^2', 'MedInc HouseAge',\n",
       "       'MedInc AveRooms', 'MedInc AveBedrms', 'MedInc Population',\n",
       "       'MedInc AveOccup', 'MedInc Latitude', 'MedInc Longitude',\n",
       "       'HouseAge^2', 'HouseAge AveRooms', 'HouseAge AveBedrms',\n",
       "       'HouseAge Population', 'HouseAge AveOccup', 'HouseAge Latitude',\n",
       "       'HouseAge Longitude', 'AveRooms^2', 'AveRooms AveBedrms',\n",
       "       'AveRooms Population', 'AveRooms AveOccup', 'AveRooms Latitude',\n",
       "       'AveRooms Longitude', 'AveBedrms^2', 'AveBedrms Population',\n",
       "       'AveBedrms AveOccup', 'AveBedrms Latitude', 'AveBedrms Longitude',\n",
       "       'Population^2', 'Population AveOccup', 'Population Latitude',\n",
       "       'Population Longitude', 'AveOccup^2', 'AveOccup Latitude',\n",
       "       'AveOccup Longitude', 'Latitude^2', 'Latitude Longitude',\n",
       "       'Longitude^2'], dtype=object)"
      ]
     },
     "execution_count": 10,
     "metadata": {},
     "output_type": "execute_result"
    }
   ],
   "source": [
    "# Creating a design matrix with polynomial standardized features\n",
    "aff = PolynomialFeatures(2,include_bias=True)\n",
    "scaler = StandardScaler()\n",
    "X = aff.fit_transform(scaler.fit_transform(D))\n",
    "features = aff.get_feature_names_out(california.feature_names)\n",
    "features"
   ]
  },
  {
   "cell_type": "code",
   "execution_count": 14,
   "metadata": {},
   "outputs": [
    {
     "data": {
      "text/plain": [
       "array([ 1.95724199,  0.92243689,  0.1322746 , -0.39583612,  0.56212582,\n",
       "        0.03851036, -1.68052409, -1.27092793, -1.16447981, -0.11299565,\n",
       "        0.04446976,  0.20353088, -0.16758436,  0.12323738, -0.05110633,\n",
       "       -0.61882733, -0.54901295,  0.03353488, -0.03930124,  0.06328855,\n",
       "        0.04017423, -0.23751839, -0.27066427, -0.25213086,  0.04449819,\n",
       "       -0.08079146, -0.19118335,  0.69090139,  0.46243774,  0.40789392,\n",
       "        0.03597354,  0.2759851 , -0.42913941, -0.44237578, -0.38372053,\n",
       "        0.00351097,  0.22514157,  0.05551793,  0.03325349,  0.00940107,\n",
       "        0.47326301,  0.33794513,  0.28233172,  0.46261665,  0.16018745])"
      ]
     },
     "execution_count": 14,
     "metadata": {},
     "output_type": "execute_result"
    }
   ],
   "source": [
    "# Minimize RSS by solving the system of equations given by Grad(RSS)=0\n",
    "beta = sp.linalg.solve(X.T@X,X.T@y)\n",
    "beta"
   ]
  },
  {
   "cell_type": "code",
   "execution_count": 15,
   "metadata": {},
   "outputs": [
    {
     "name": "stdout",
     "output_type": "stream",
     "text": [
      "[0.92243689]\n",
      "[-0.16758436]\n",
      "[0.06328855]\n"
     ]
    }
   ],
   "source": [
    "# Fetch beta values for given features\n",
    "print(beta[np.where(features == \"MedInc\")])\n",
    "print(beta[np.where(features == \"MedInc AveBedrms\")])\n",
    "print(beta[np.where(features == \"HouseAge AveBedrms\")])"
   ]
  },
  {
   "cell_type": "code",
   "execution_count": 18,
   "metadata": {},
   "outputs": [
    {
     "data": {
      "text/plain": [
       "array([ 1.95843968,  0.92658988,  0.13369509, -0.39944498,  0.56872288,\n",
       "        0.03994686, -1.67735339, -1.26172709, -1.15550851, -0.11202827,\n",
       "        0.04732486,  0.20113733, -0.16526669,  0.12686591, -0.04152643,\n",
       "       -0.59673877, -0.52825062,  0.0341816 , -0.04284778,  0.06685842,\n",
       "        0.04239596, -0.23805741, -0.25857465, -0.24076018,  0.04415151,\n",
       "       -0.07983879, -0.19575158,  0.69121165,  0.44602199,  0.39143491,\n",
       "        0.03539262,  0.28479486, -0.40821177, -0.42422221, -0.36598655,\n",
       "        0.00376446,  0.22263601,  0.06551324,  0.04208779,  0.00961806,\n",
       "        0.46878047,  0.36365074,  0.29916091,  0.49773502,  0.17801013])"
      ]
     },
     "execution_count": 18,
     "metadata": {},
     "output_type": "execute_result"
    }
   ],
   "source": [
    "# Minimize Objective function f(β)=1/n*‖y-Xβ‖²+λ‖β‖² by solving the system of equations \n",
    "# given by Grad(f(β))=0 for λ=0.1\n",
    "beta_b = sp.linalg.solve(X.T@X+n*0.1,X.T@y)\n",
    "beta_b"
   ]
  },
  {
   "cell_type": "code",
   "execution_count": 19,
   "metadata": {},
   "outputs": [
    {
     "name": "stdout",
     "output_type": "stream",
     "text": [
      "[0.92658988]\n",
      "[-0.16526669]\n",
      "[0.06685842]\n"
     ]
    }
   ],
   "source": [
    "# Fetch beta values for given features\n",
    "print(beta_b[np.where(features == \"MedInc\")])\n",
    "print(beta_b[np.where(features == \"MedInc AveBedrms\")])\n",
    "print(beta_b[np.where(features == \"HouseAge AveBedrms\")])"
   ]
  }
 ],
 "metadata": {
  "kernelspec": {
   "display_name": "Python 3",
   "language": "python",
   "name": "python3"
  },
  "language_info": {
   "codemirror_mode": {
    "name": "ipython",
    "version": 3
   },
   "file_extension": ".py",
   "mimetype": "text/x-python",
   "name": "python",
   "nbconvert_exporter": "python",
   "pygments_lexer": "ipython3",
   "version": "3.11.6"
  }
 },
 "nbformat": 4,
 "nbformat_minor": 2
}
