{
 "cells": [
  {
   "cell_type": "code",
   "execution_count": 1,
   "metadata": {},
   "outputs": [],
   "source": [
    "import numpy as np\n",
    "import scipy as sp\n",
    "from sklearn.datasets import fetch_california_housing\n",
    "from sklearn.preprocessing import PolynomialFeatures,StandardScaler\n"
   ]
  },
  {
   "cell_type": "code",
   "execution_count": 2,
   "metadata": {},
   "outputs": [
    {
     "name": "stdout",
     "output_type": "stream",
     "text": [
      "20640 8\n"
     ]
    }
   ],
   "source": [
    "# Creating the data matrix\n",
    "california = fetch_california_housing()\n",
    "D = california.data\n",
    "y = california.target\n",
    "n,d = D.shape\n",
    "print(n,d)\n"
   ]
  },
  {
   "cell_type": "code",
   "execution_count": 3,
   "metadata": {},
   "outputs": [
    {
     "data": {
      "text/plain": [
       "array(['1', 'MedInc', 'HouseAge', 'AveRooms', 'AveBedrms', 'Population',\n",
       "       'AveOccup', 'Latitude', 'Longitude', 'MedInc^2', 'MedInc HouseAge',\n",
       "       'MedInc AveRooms', 'MedInc AveBedrms', 'MedInc Population',\n",
       "       'MedInc AveOccup', 'MedInc Latitude', 'MedInc Longitude',\n",
       "       'HouseAge^2', 'HouseAge AveRooms', 'HouseAge AveBedrms',\n",
       "       'HouseAge Population', 'HouseAge AveOccup', 'HouseAge Latitude',\n",
       "       'HouseAge Longitude', 'AveRooms^2', 'AveRooms AveBedrms',\n",
       "       'AveRooms Population', 'AveRooms AveOccup', 'AveRooms Latitude',\n",
       "       'AveRooms Longitude', 'AveBedrms^2', 'AveBedrms Population',\n",
       "       'AveBedrms AveOccup', 'AveBedrms Latitude', 'AveBedrms Longitude',\n",
       "       'Population^2', 'Population AveOccup', 'Population Latitude',\n",
       "       'Population Longitude', 'AveOccup^2', 'AveOccup Latitude',\n",
       "       'AveOccup Longitude', 'Latitude^2', 'Latitude Longitude',\n",
       "       'Longitude^2'], dtype=object)"
      ]
     },
     "execution_count": 3,
     "metadata": {},
     "output_type": "execute_result"
    }
   ],
   "source": [
    "# Creating a design matrix with polynomial standardized features\n",
    "aff = PolynomialFeatures(2,include_bias=True)\n",
    "scaler = StandardScaler()\n",
    "X = aff.fit_transform(scaler.fit_transform(D))\n",
    "features = aff.get_feature_names_out(california.feature_names)\n",
    "features"
   ]
  },
  {
   "cell_type": "code",
   "execution_count": 4,
   "metadata": {},
   "outputs": [
    {
     "data": {
      "text/plain": [
       "array([ 1.95724199,  0.92243689,  0.1322746 , -0.39583612,  0.56212582,\n",
       "        0.03851036, -1.68052409, -1.27092793, -1.16447981, -0.11299565,\n",
       "        0.04446976,  0.20353088, -0.16758436,  0.12323738, -0.05110633,\n",
       "       -0.61882733, -0.54901295,  0.03353488, -0.03930124,  0.06328855,\n",
       "        0.04017423, -0.23751839, -0.27066427, -0.25213086,  0.04449819,\n",
       "       -0.08079146, -0.19118335,  0.69090139,  0.46243774,  0.40789392,\n",
       "        0.03597354,  0.2759851 , -0.42913941, -0.44237578, -0.38372053,\n",
       "        0.00351097,  0.22514157,  0.05551793,  0.03325349,  0.00940107,\n",
       "        0.47326301,  0.33794513,  0.28233172,  0.46261665,  0.16018745])"
      ]
     },
     "execution_count": 4,
     "metadata": {},
     "output_type": "execute_result"
    }
   ],
   "source": [
    "# Minimize RSS by solving the system of equations given by Grad(RSS)=0\n",
    "beta = sp.linalg.solve(X.T@X,X.T@y)\n",
    "beta"
   ]
  },
  {
   "cell_type": "code",
   "execution_count": 5,
   "metadata": {},
   "outputs": [
    {
     "name": "stdout",
     "output_type": "stream",
     "text": [
      "[0.92243689]\n",
      "[-0.16758436]\n",
      "[0.06328855]\n"
     ]
    }
   ],
   "source": [
    "# Fetch beta values for given features\n",
    "print(beta[np.where(features == \"MedInc\")])\n",
    "print(beta[np.where(features == \"MedInc AveBedrms\")])\n",
    "print(beta[np.where(features == \"HouseAge AveBedrms\")])"
   ]
  },
  {
   "cell_type": "code",
   "execution_count": 6,
   "metadata": {},
   "outputs": [
    {
     "data": {
      "text/plain": [
       "array([ 1.45624916,  0.71957545,  0.14820683, -0.14838337,  0.00862983,\n",
       "       -0.00186671, -0.17832345, -0.47130572, -0.33996516, -0.02359837,\n",
       "        0.05021859,  0.12503662, -0.09998862,  0.05668295, -0.03998195,\n",
       "       -0.06939659, -0.05699217,  0.15959297, -0.0215094 ,  0.0092316 ,\n",
       "        0.01565444, -0.0450344 , -0.03672704, -0.00781034,  0.06979771,\n",
       "       -0.11923069, -0.09952622,  0.05196717,  0.06136376,  0.00995201,\n",
       "        0.04975143,  0.01407802,  0.00709968, -0.00351464,  0.03412183,\n",
       "        0.00363   ,  0.02554756,  0.03123771,  0.00882566,  0.0015518 ,\n",
       "        0.03225161, -0.01687138,  0.04437523, -0.03313319,  0.17547435])"
      ]
     },
     "execution_count": 6,
     "metadata": {},
     "output_type": "execute_result"
    }
   ],
   "source": [
    "# Minimize Objective function f(β)=1/n*‖y-Xβ‖²+λ‖β‖² by solving the system of equations \n",
    "# given by Grad(f(β))=0 for λ=0.1\n",
    "p = X.shape[1]\n",
    "beta_b = sp.linalg.solve(X.T@X+n*0.1*np.eye(p),X.T@y)\n",
    "beta_b"
   ]
  },
  {
   "cell_type": "code",
   "execution_count": 7,
   "metadata": {},
   "outputs": [
    {
     "name": "stdout",
     "output_type": "stream",
     "text": [
      "[0.71957545]\n",
      "[-0.09998862]\n",
      "[0.0092316]\n"
     ]
    }
   ],
   "source": [
    "# Fetch beta values for given features\n",
    "print(beta_b[np.where(features == \"MedInc\")])\n",
    "print(beta_b[np.where(features == \"MedInc AveBedrms\")])\n",
    "print(beta_b[np.where(features == \"HouseAge AveBedrms\")])"
   ]
  }
 ],
 "metadata": {
  "kernelspec": {
   "display_name": "Python 3",
   "language": "python",
   "name": "python3"
  },
  "language_info": {
   "codemirror_mode": {
    "name": "ipython",
    "version": 3
   },
   "file_extension": ".py",
   "mimetype": "text/x-python",
   "name": "python",
   "nbconvert_exporter": "python",
   "pygments_lexer": "ipython3",
   "version": "3.12.0"
  }
 },
 "nbformat": 4,
 "nbformat_minor": 2
}
