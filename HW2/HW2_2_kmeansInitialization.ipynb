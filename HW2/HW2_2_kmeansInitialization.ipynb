{
 "cells": [
  {
   "cell_type": "code",
   "execution_count": 27,
   "id": "19e52de0",
   "metadata": {},
   "outputs": [],
   "source": [
    "import numpy as np\n",
    "import matplotlib.pyplot as plt # data visualization library\n",
    "import scipy"
   ]
  },
  {
   "cell_type": "markdown",
   "id": "fb541e6c",
   "metadata": {},
   "source": [
    "If possible, update your sklearn version to 1.3.2 to reduce variance in the versions."
   ]
  },
  {
   "cell_type": "code",
   "execution_count": 28,
   "id": "88a09f43",
   "metadata": {},
   "outputs": [],
   "source": [
    "#!pip3 install scikit-learn==1.3.2"
   ]
  },
  {
   "cell_type": "code",
   "execution_count": 29,
   "id": "fef750e0",
   "metadata": {
    "lines_to_next_cell": 1
   },
   "outputs": [
    {
     "name": "stdout",
     "output_type": "stream",
     "text": [
      "The scikit-learn version is 1.3.2.\n"
     ]
    }
   ],
   "source": [
    "import sklearn\n",
    "from sklearn import datasets\n",
    "from sklearn import metrics\n",
    "print('The scikit-learn version is {}.'.format(sklearn.__version__))"
   ]
  },
  {
   "cell_type": "markdown",
   "id": "decf726b",
   "metadata": {},
   "source": [
    "# k-means initialization"
   ]
  },
  {
   "cell_type": "markdown",
   "id": "1174c2de",
   "metadata": {},
   "source": [
    "The functions generating the datasets are given here:"
   ]
  },
  {
   "cell_type": "code",
   "execution_count": 30,
   "id": "c63937a2",
   "metadata": {
    "lines_to_next_cell": 1
   },
   "outputs": [],
   "source": [
    "def generateMoons(epsilon, n):\n",
    "    moons, labels = sklearn.datasets.make_moons(n_samples=n, noise=epsilon, random_state=7)\n",
    "    return \"moons\", moons, labels, 2\n",
    "def generateBlobs(epsilon, n):\n",
    "    blobs, labels = sklearn.datasets.make_blobs(n_samples=n,centers=3, cluster_std=[epsilon + 1, epsilon + 1.5, epsilon + 0.5], random_state=54)\n",
    "    return \"blobs\", blobs, labels, 3"
   ]
  },
  {
   "cell_type": "markdown",
   "id": "aa617152",
   "metadata": {},
   "source": [
    "Implement the centroid initialization here. Right now, it returns a random initialization. "
   ]
  },
  {
   "cell_type": "code",
   "execution_count": 31,
   "id": "3e42de9c",
   "metadata": {
    "lines_to_next_cell": 1
   },
   "outputs": [],
   "source": [
    "def sum_quadratic_dist(D, i):\n",
    "    dist = 0\n",
    "    for row in D:\n",
    "        dist += np.linalg.norm(row - D[i,:])**2\n",
    "    return dist\n",
    "\n",
    "# quadratic distance from v to the closest column vector in X\n",
    "def quadratic_closest(v, X):\n",
    "    d_min = float('inf')\n",
    "    for column in np.atleast_2d(X).T:\n",
    "        d_min = min(d_min, np.linalg.norm(column - v)**2)\n",
    "    return d_min\n",
    "\n",
    "\n",
    "def init_centroids_greedy_pp(D,r,l=10):\n",
    "    '''\n",
    "        :param r: (int) number of centroids (clusters)\n",
    "        :param D: (np-array) the data matrix\n",
    "        :param l: (int) number of centroid candidates in each step\n",
    "        :return: (np-array) 'X' the selected centroids from the dataset\n",
    "    '''\n",
    "    rng =  np.random.default_rng(seed=7) # use this random generator to sample the candidates (sampling according to given probabilities can be done via rng.choice(..))\n",
    "    n,d = D.shape\n",
    "    D = np.atleast_2d(D)\n",
    "\n",
    "    indexes = rng.integers(low=0, high=n, size=l) # 1.\n",
    "\n",
    "    i_min = -1 # 2.\n",
    "    d_min = float('inf')\n",
    "    for i in indexes:\n",
    "        d = sum_quadratic_dist(D, i)\n",
    "        if d < d_min:\n",
    "            i_min = i\n",
    "            d_min = d\n",
    "\n",
    "    X = np.atleast_2d(D[i_min,:]).T # 3.\n",
    "\n",
    "    for _ in range(r-1): # 5.\n",
    "        p = np.zeros(n) # gather probabilities for 5.1\n",
    "        s = 0 # compute denominator for 5.1\n",
    "        for j in range(n):\n",
    "            s += quadratic_closest(D[j,:], X)\n",
    "        for i in range(n):\n",
    "            p[i] = quadratic_closest(D[i,:], X) / s\n",
    "        indexes = rng.choice(np.arange(n), size=l, p=p) # 5.1\n",
    "\n",
    "        i_min = -1 # 5.2\n",
    "        d_min = float('inf')\n",
    "        for i in indexes:\n",
    "            d = 0\n",
    "            for j in range(n):\n",
    "                d += quadratic_closest(D[j,:], np.append(np.atleast_2d(X), np.atleast_2d(D[i,:]).T, axis=1))\n",
    "            if d < d_min:\n",
    "                i_min = i\n",
    "                d_min = d\n",
    "\n",
    "        X = np.append(np.atleast_2d(X), np.atleast_2d(D[i_min,:]).T, axis=1) # 5.3\n",
    "        \n",
    "    return X # 6"
   ]
  },
  {
   "cell_type": "code",
   "execution_count": 32,
   "id": "4be6d37a",
   "metadata": {},
   "outputs": [],
   "source": [
    "def spectral_clustering(W,r, X_init):\n",
    "    '''\n",
    "        :param W: (np-array) nxn similarity/weighted adjacency matrix\n",
    "        :param r: (int) number of centroids (clusters)\n",
    "        :param X_init: (function) the centroid initialization function \n",
    "        :return: (np-array) 'Y' the computed cluster assignment matrix\n",
    "    '''  \n",
    "    np.random.seed(0)\n",
    "    L = np.diag(np.array(W.sum(0))[0]) - W\n",
    "    v0 = np.random.rand(min(L.shape))\n",
    "    Lambda, V = scipy.sparse.linalg.eigsh(L, k=r+1, which=\"SM\", v0=v0)\n",
    "    A = V[:,1:] #remove the first eigenvector, assuming that the graph is conected\n",
    "    initial_points = X_init(A,r)\n",
    "    X, Y = kmeans(A, r, initial_points)\n",
    "\n",
    "    return Y"
   ]
  },
  {
   "cell_type": "markdown",
   "id": "9947969f",
   "metadata": {},
   "source": [
    "This is the $k$-means implementation from the lecture accompanying notebook."
   ]
  },
  {
   "cell_type": "code",
   "execution_count": 33,
   "id": "484a9bad",
   "metadata": {},
   "outputs": [],
   "source": [
    "def RSS(D,X,Y):\n",
    "    return np.sum((D- Y@X.T)**2)\n",
    "def getY(labels):\n",
    "    '''\n",
    "        Compute the cluster assignment matrix Y from the categorically encoded labels\n",
    "    '''\n",
    "    Y = np.eye(max(labels)+1)[labels]\n",
    "    return Y\n",
    "def update_centroid(D,Y):\n",
    "    cluster_sizes = np.diag(Y.T@Y).copy()\n",
    "    cluster_sizes[cluster_sizes==0]=1\n",
    "    return D.T@Y/cluster_sizes\n",
    "def update_assignment(D,X):\n",
    "    dist = np.sum((np.expand_dims(D,2) - X)**2,1)\n",
    "    labels = np.argmin(dist,1)\n",
    "    return getY(labels)\n",
    "def kmeans(D,r, X_init, epsilon=0.00001, t_max=10000):\n",
    "    X = X_init.copy()\n",
    "    Y = update_assignment(D,X)\n",
    "    rss_old = RSS(D,X,Y) +2*epsilon\n",
    "    t=0\n",
    "    #Looping as long as difference of objective function values is larger than epsilon\n",
    "    while rss_old - RSS(D,X,Y) > epsilon and t < t_max-1:\n",
    "        rss_old = RSS(D,X,Y)\n",
    "        X = update_centroid(D,Y)\n",
    "        Y = update_assignment(D,X)\n",
    "        t+=1\n",
    "    print(t,\"iterations\")\n",
    "    return X,Y"
   ]
  },
  {
   "cell_type": "markdown",
   "id": "6c5e2027",
   "metadata": {},
   "source": [
    "## Running k-means on the blobs dataset\n",
    "We generate the blobs dataset. Run kmeans based on the initialization technique. Finally, we plot the clustering. The initial centroids are marked in red, and the final centroids are marked in blue. You can use this visualization to see if your initialization makes sense. It doesn't work for spectral clustering."
   ]
  },
  {
   "cell_type": "code",
   "execution_count": 34,
   "id": "de116bdb",
   "metadata": {},
   "outputs": [],
   "source": [
    "n=500\n",
    "dataID, D, labels, r = generateBlobs(0.05,n)"
   ]
  },
  {
   "cell_type": "code",
   "execution_count": 35,
   "id": "af62985a",
   "metadata": {},
   "outputs": [
    {
     "name": "stdout",
     "output_type": "stream",
     "text": [
      "3 iterations\n",
      "blobs, mean approximation error: 1.234565237648824\n",
      "blobs nmi: 0.9527380045058215\n"
     ]
    }
   ],
   "source": [
    "X_init = init_centroids_greedy_pp(D,r)\n",
    "X,Y = kmeans(D,r, X_init)\n",
    "approx_error_blobs = RSS(D, X, Y) / (D.shape[0] * D.shape[1])\n",
    "print(f\"blobs, mean approximation error: {approx_error_blobs}\")\n",
    "\n",
    "labels_pred = np.zeros(n)\n",
    "for i in range(n):\n",
    "    labels_pred[i] = np.argmax(Y[i])\n",
    "print(f\"blobs nmi: {metrics.normalized_mutual_info_score(labels, labels_pred)}\")"
   ]
  },
  {
   "cell_type": "code",
   "execution_count": 36,
   "id": "5e810b67",
   "metadata": {},
   "outputs": [
    {
     "data": {
      "image/png": "[encoded data removed]",
      "text/plain": [
       "<Figure size 640x480 with 1 Axes>"
      ]
     },
     "metadata": {},
     "output_type": "display_data"
    }
   ],
   "source": [
    "fig = plt.figure()\n",
    "ax = plt.axes()\n",
    "ax.axis('equal')\n",
    "ax.scatter(D[:, 0], D[:, 1], c=np.argmax(Y,axis=1), s=10)\n",
    "ax.scatter(X_init.T[:, 0], X_init.T[:, 1], c='red', s=50, marker = 'D') # initial centroids are in red\n",
    "ax.scatter(X.T[:, 0], X.T[:, 1], c='blue', s=50, marker = 'D') # computed centroids are in blue\n",
    "plt.show()"
   ]
  },
  {
   "cell_type": "markdown",
   "id": "238b4cd2",
   "metadata": {},
   "source": [
    "## Running spectral clustering on the two moons dataset\n",
    "We generate the moons dataset and compute spectral clustering with the implemented initialization technique."
   ]
  },
  {
   "cell_type": "code",
   "execution_count": 37,
   "id": "737ede9c",
   "metadata": {},
   "outputs": [],
   "source": [
    "dataID, D, labels, r = generateMoons(0.05,n)"
   ]
  },
  {
   "cell_type": "code",
   "execution_count": 38,
   "id": "c51ac20f",
   "metadata": {},
   "outputs": [
    {
     "name": "stdout",
     "output_type": "stream",
     "text": [
      "3 iterations\n",
      "moons nmi knn=5: 0.0034524600208259175\n",
      "7 iterations\n",
      "moons nmi knn=10: 0.012645045410236715\n",
      "10 iterations\n",
      "moons nmi knn=20: 0.2124966839819454\n",
      "4 iterations\n",
      "moons nmi knn=40: 0.5998541615536581\n"
     ]
    }
   ],
   "source": [
    "from sklearn.neighbors import radius_neighbors_graph, kneighbors_graph\n",
    "# Implement here the computation of W as knn graph\n",
    "# W = radius_neighbors_graph(D,0.5,include_self=False)\n",
    "knn_set = [5, 10, 20, 40]\n",
    "labels_pred = np.zeros(n)\n",
    "for knn in knn_set:\n",
    "    W = kneighbors_graph(D,knn,include_self=False)\n",
    "    Y = spectral_clustering(W,r,init_centroids_greedy_pp)\n",
    "    for i in range(n):\n",
    "        labels_pred[i] = np.argmax(Y[i])\n",
    "    print(f\"moons nmi knn={knn}: {metrics.normalized_mutual_info_score(labels, labels_pred)}\")\n",
    "\n",
    "    # plt.scatter(D[:, 0], D[:, 1], c=np.argmax(Y,axis=1), s=10)\n",
    "    # plt.title('%s'  % ( dataID) )\n",
    "    # plt.show()"
   ]
  }
 ],
 "metadata": {
  "kernelspec": {
   "display_name": "Python 3 (ipykernel)",
   "language": "python",
   "name": "python3"
  },
  "language_info": {
   "codemirror_mode": {
    "name": "ipython",
    "version": 3
   },
   "file_extension": ".py",
   "mimetype": "text/x-python",
   "name": "python",
   "nbconvert_exporter": "python",
   "pygments_lexer": "ipython3",
   "version": "3.11.7"
  }
 },
 "nbformat": 4,
 "nbformat_minor": 5
}
