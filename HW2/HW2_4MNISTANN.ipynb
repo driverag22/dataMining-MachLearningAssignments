{
 "cells": [
  {
   "cell_type": "code",
   "execution_count": 3,
   "metadata": {},
   "outputs": [
    {
     "data": {
      "text/plain": [
       "'cpu'"
      ]
     },
     "execution_count": 3,
     "metadata": {},
     "output_type": "execute_result"
    }
   ],
   "source": [
    "import torch\n",
    "import numpy as np\n",
    "cuda = torch.cuda.is_available()\n",
    "device = 'cuda' if cuda else 'cpu'\n",
    "device"
   ]
  },
  {
   "cell_type": "markdown",
   "metadata": {},
   "source": [
    "## Define the network architecture"
   ]
  },
  {
   "cell_type": "code",
   "execution_count": 4,
   "metadata": {},
   "outputs": [],
   "source": [
    "import torch.nn as nn\n",
    "import torch.nn.functional as F\n",
    "\n",
    "# The embedding architecture returns the \n",
    "# output of the penultimate layer\n",
    "class Embed(nn.Module):\n",
    "    def __init__(self,embedding_dim=84):\n",
    "        super(Embed, self).__init__()\n",
    "        \n",
    "        self.conv1 = nn.Conv2d(1, 6, 5)\n",
    "        self.conv2 = nn.Conv2d(6, 16, 5)\n",
    "        self.fc1   = nn.Linear(256, 120)\n",
    "        self.fc2   = nn.Linear(120, embedding_dim)\n",
    "\n",
    "    def forward(self, x):\n",
    "        out = F.relu(self.conv1(x))\n",
    "        out = F.max_pool2d(out, 2)\n",
    "        out = F.relu(self.conv2(out))\n",
    "        out = F.max_pool2d(out, 2)\n",
    "        out = out.view(out.size(0), -1)\n",
    "        out = F.relu(self.fc1(out))\n",
    "        out = F.relu(self.fc2(out))\n",
    "        return out     \n",
    "    \n",
    "class Net(nn.Module):\n",
    "    def __init__(self,embedding_dim, classifier):\n",
    "        super(Net, self).__init__()\n",
    "        self.embed = Embed(embedding_dim=embedding_dim)\n",
    "        self.classifier = classifier\n",
    "\n",
    "    def forward(self, x):\n",
    "        out = self.embed(x)\n",
    "        out = self.classifier(out)\n",
    "        return out\n",
    "\n",
    "    def conf(self,x):\n",
    "        out = self.embed(x)\n",
    "        return F.softmax(self.classifier(out),dim=1)"
   ]
  },
  {
   "cell_type": "markdown",
   "metadata": {},
   "source": [
    "## Load the data: the first four MNIST classes"
   ]
  },
  {
   "cell_type": "code",
   "execution_count": 7,
   "metadata": {},
   "outputs": [
    {
     "name": "stdout",
     "output_type": "stream",
     "text": [
      "==> Preparing data..\n"
     ]
    }
   ],
   "source": [
    "from torchvision import datasets, transforms\n",
    "from torch.utils.data import DataLoader\n",
    "\n",
    "classes = ('0', '1', '2', '3')\n",
    "c=4\n",
    "\n",
    "# Data\n",
    "print('==> Preparing data..')\n",
    "trans = transforms.Compose([transforms.ToTensor(), transforms.Normalize((0.5,), (1.0,))])\n",
    "\n",
    "train_data = datasets.MNIST(root='./data', train=True, download=True, transform=trans)\n",
    "\n",
    "# Select only some classes \n",
    "idx = train_data.targets < c\n",
    "train_data.targets = train_data.targets[idx]\n",
    "train_data.data = train_data.data[idx]\n",
    "trainloader = DataLoader(train_data, batch_size=128, shuffle=True, num_workers=2)\n",
    "\n",
    "\n",
    "testset = datasets.MNIST(root='./data', train=False, download=True, transform=trans)\n",
    "# Select only some classes \n",
    "idx = testset.targets < c\n",
    "testset.targets = testset.targets[idx]\n",
    "testset.data = testset.data[idx]\n",
    "testloader = torch.utils.data.DataLoader(testset, batch_size=128, shuffle=False, num_workers=2)"
   ]
  },
  {
   "cell_type": "markdown",
   "metadata": {},
   "source": [
    "## Implementation of the training and testing"
   ]
  },
  {
   "cell_type": "code",
   "execution_count": 5,
   "metadata": {},
   "outputs": [],
   "source": [
    "import time\n",
    "def train_epoch(net, criterion, optimizer, trainloader, verbose=False):\n",
    "    train_loss, correct, conf = 0, 0, 0\n",
    "    start_time=time.time()\n",
    "    net.train() \n",
    "    for batch_idx, (inputs, targets) in enumerate(trainloader):\n",
    "        inputs, targets = inputs.to(device), targets.to(device)\n",
    "        # Set the gradient to zero\n",
    "        optimizer.zero_grad()\n",
    "        # Do the forward pass\n",
    "        logits = net(inputs)\n",
    "        loss = criterion(logits, targets)\n",
    "        if verbose:\n",
    "            print(\"loss:\",loss.item())\n",
    "        # Do the backward pass\n",
    "        loss.backward()\n",
    "        # Do a gradient descent step\n",
    "        optimizer.step()\n",
    "    \n",
    "        with torch.no_grad(): #Disable gradient tracking and compute some statistics\n",
    "            train_loss += loss.item()\n",
    "            y_probs = F.softmax(logits, dim=1)\n",
    "            confBatch, predicted = y_probs.max(1)\n",
    "            correct += predicted.eq(targets).sum().item()\n",
    "            conf+=confBatch.sum().item()\n",
    "    execution_time = (time.time() - start_time)\n",
    "    n=len(trainloader.dataset)\n",
    "    print('Loss: %.3f | Acc: %.3f%% (%d/%d) | Conf %.2f | time (s): %.2f'% (train_loss/len(trainloader), 100.*correct/n, correct, n, 100*conf/n, execution_time))\n",
    "    return (100.*correct/n, 100*conf/n)\n",
    "  \n",
    "def test_acc(net, criterion, data_loader):\n",
    "    net.eval()\n",
    "    test_loss, correct, conf, total = 0,0,0,0\n",
    "    with torch.no_grad(): # disable gradient tracking\n",
    "        for batch_idx, (inputs, targets) in enumerate(data_loader):\n",
    "            inputs, targets = inputs.to(device), targets.to(device)\n",
    "            logits = net(inputs)\n",
    "            loss = criterion(logits, targets)\n",
    "\n",
    "            test_loss += loss.item()\n",
    "            y_probs = F.softmax(logits, dim=1)\n",
    "            confBatch, predicted = y_probs.max(1)\n",
    "            correct += predicted.eq(targets).sum().item()\n",
    "            conf+=confBatch.sum().item()\n",
    "    n=len(data_loader.dataset)\n",
    "    print('Loss: %.3f | Acc: %.3f%% (%d/%d) | Conf %.2f'% (test_loss/max(len(data_loader),1), 100.*correct/n, correct, n, 100*conf/n))\n",
    "    return (100.*correct/n, 100*conf/n)"
   ]
  },
  {
   "cell_type": "markdown",
   "metadata": {},
   "source": [
    "## Create the model and perform the optimization for 10 epochs"
   ]
  },
  {
   "cell_type": "code",
   "execution_count": 8,
   "metadata": {},
   "outputs": [
    {
     "name": "stdout",
     "output_type": "stream",
     "text": [
      "==> Building model..\n"
     ]
    }
   ],
   "source": [
    "d=2\n",
    "# Model\n",
    "print('==> Building model..')\n",
    "classifier = nn.Linear(d, c, bias=True)\n",
    "net = Net(embedding_dim=d, classifier=classifier)\n",
    "net = net.to(device)\n",
    "\n",
    "criterion = nn.CrossEntropyLoss()\n",
    "\n",
    "sgd = torch.optim.SGD([{'params': net.parameters()},],\n",
    "                lr=0.1, momentum=0.9, weight_decay=5e-4)"
   ]
  },
  {
   "cell_type": "code",
   "execution_count": 36,
   "metadata": {},
   "outputs": [
    {
     "name": "stdout",
     "output_type": "stream",
     "text": [
      "\n",
      "Epoch: 0\n"
     ]
    },
    {
     "name": "stdout",
     "output_type": "stream",
     "text": [
      "Loss: 0.428 | Acc: 80.856% (20015/24754) | Conf 78.97 | time (s): 6.87\n",
      "Loss: 0.033 | Acc: 99.254% (4126/4157) | Conf 98.39\n",
      "\n",
      "Epoch: 1\n",
      "Loss: 0.042 | Acc: 98.877% (24476/24754) | Conf 98.43 | time (s): 6.94\n",
      "Loss: 0.039 | Acc: 98.749% (4105/4157) | Conf 98.48\n",
      "\n",
      "Epoch: 2\n",
      "Loss: 0.026 | Acc: 99.269% (24573/24754) | Conf 98.96 | time (s): 6.95\n",
      "Loss: 0.015 | Acc: 99.663% (4143/4157) | Conf 99.20\n",
      "Saving..\n"
     ]
    }
   ],
   "source": [
    "import os\n",
    "for epoch in range(3):\n",
    "    print('\\nEpoch: %d' % epoch)\n",
    "    train_epoch(net, criterion, sgd, trainloader)\n",
    "    (acc,conf) = test_acc(net,criterion, testloader)\n",
    "\n",
    "print('Saving..')\n",
    "state = {'net': net.state_dict(),'acc': acc}\n",
    "if not os.path.isdir('checkpoint'):\n",
    "    os.mkdir('checkpoint')\n",
    "torch.save(state, './checkpoint/net.t7')\n"
   ]
  },
  {
   "cell_type": "markdown",
   "metadata": {},
   "source": [
    "## Plot the latent space representations"
   ]
  },
  {
   "cell_type": "code",
   "execution_count": 9,
   "metadata": {},
   "outputs": [
    {
     "name": "stdout",
     "output_type": "stream",
     "text": [
      "ACC:\t 99.66321866730816\n"
     ]
    }
   ],
   "source": [
    "# Load the saved net\n",
    "classifier = nn.Linear(d, c,bias=True)\n",
    "net = Net(embedding_dim=d, classifier=classifier)\n",
    "checkpoint = torch.load(\"checkpoint/net.t7\",map_location='cpu')\n",
    "net.load_state_dict(checkpoint['net'])\n",
    "net.eval()\n",
    "print('ACC:\\t',checkpoint['acc'])"
   ]
  },
  {
   "cell_type": "code",
   "execution_count": 10,
   "metadata": {},
   "outputs": [],
   "source": [
    "from matplotlib.offsetbox import OffsetImage, AnnotationBbox\n",
    "def scatter_pictures(inputs, outputs, samples=30):\n",
    "    zoom = 0.7\n",
    "        \n",
    "    for j in range(min(inputs.shape[0],samples)):\n",
    "        image = inputs[j,:,:,:].squeeze()\n",
    "        im = OffsetImage(image, cmap=\"gray\",zoom=zoom)\n",
    "        ab = AnnotationBbox(im, (outputs[j,0], outputs[j,1]), xycoords='data', frameon=False, alpha=0.5)\n",
    "        ax.add_artist(ab)"
   ]
  },
  {
   "cell_type": "code",
   "execution_count": 11,
   "metadata": {},
   "outputs": [],
   "source": [
    "import matplotlib.pyplot as plt\n",
    "def plot_conf(conf, show_class_assignment=False, x_max=20, y_max=20, x_min=-1, y_min=-1):\n",
    "    x = np.arange(x_min, x_max, 0.05)\n",
    "    y = np.arange(y_min, y_max, 0.05)\n",
    "\n",
    "    xx, yy = np.meshgrid(x, y)\n",
    "    X = np.array([xx,yy]).reshape(2,x.shape[0]*y.shape[0]).T\n",
    "    Z = conf(torch.from_numpy(X).float()).t()\n",
    "    Z = Z.reshape(-1,y.shape[0],x.shape[0]).cpu().detach().numpy()\n",
    "    if show_class_assignment:\n",
    "        h = plt.contourf(x,y,Z.argmax(axis=0),cmap='magma')\n",
    "    else:\n",
    "        h = plt.contourf(x,y,Z.max(axis=0),cmap='magma')\n",
    "        plt.clim(0, 1)\n",
    "        cb = plt.colorbar()\n",
    "        cb.set_label('Confidence')\n",
    "    plt.axis('scaled')"
   ]
  },
  {
   "cell_type": "markdown",
   "metadata": {},
   "source": [
    "## Plot Representations of out-of-distribution data"
   ]
  },
  {
   "cell_type": "code",
   "execution_count": 12,
   "metadata": {},
   "outputs": [
    {
     "name": "stdout",
     "output_type": "stream",
     "text": [
      "==> Preparing data..\n"
     ]
    }
   ],
   "source": [
    "classes = ('0', '1', '2', '3', '4', '5', '6', '7', '8', '9')\n",
    "c=10\n",
    "\n",
    "# Data\n",
    "print('==> Preparing data..')\n",
    "trans = transforms.Compose([transforms.ToTensor(), transforms.Normalize((0.5,), (1.0,))])\n",
    "\n",
    "train_data = datasets.FashionMNIST(root='./data', train=True, download=True, transform=trans)\n",
    "trainloader_fashion = DataLoader(train_data, batch_size=128, shuffle=True, num_workers=2)\n",
    "\n",
    "\n",
    "testset = datasets.FashionMNIST(root='./data', train=False, download=True, transform=trans)\n",
    "testloader_fashion = torch.utils.data.DataLoader(testset, batch_size=512, shuffle=False, num_workers=2)"
   ]
  },
  {
   "cell_type": "code",
   "execution_count": 13,
   "metadata": {},
   "outputs": [
    {
     "data": {
      "image/png": "[encoded data removed]",
      "text/plain": [
       "<Figure size 800x500 with 2 Axes>"
      ]
     },
     "metadata": {},
     "output_type": "display_data"
    }
   ],
   "source": [
    "inputs, targets = next(iter(testloader_fashion))\n",
    "outputs = net.embed(inputs).detach()\n",
    "fig, ax = plt.subplots(figsize=(8,5))\n",
    "plot_conf((lambda x: torch.softmax(net.classifier(x),dim=1)), x_max =max(outputs[:,0])+5, y_max =max(outputs[:,1])+5, x_min =min(outputs[:,0])-3, y_min =min(outputs[:,1])-3)\n",
    "scatter_pictures(inputs, outputs,samples=10)"
   ]
  },
  {
   "cell_type": "markdown",
   "metadata": {},
   "source": [
    "## 4a"
   ]
  },
  {
   "cell_type": "code",
   "execution_count": 42,
   "metadata": {},
   "outputs": [
    {
     "data": {
      "text/plain": [
       "torch.Size([128, 1, 28, 28])"
      ]
     },
     "execution_count": 42,
     "metadata": {},
     "output_type": "execute_result"
    }
   ],
   "source": [
    "model = Embed()\n",
    "# get random input image\n",
    "sample_image, sample_label = next(iter(trainloader))\n",
    "input_tensor = sample_image\n",
    "input_tensor.shape"
   ]
  },
  {
   "cell_type": "code",
   "execution_count": 47,
   "metadata": {},
   "outputs": [
    {
     "name": "stdout",
     "output_type": "stream",
     "text": [
      "out1:  torch.Size([128, 6, 24, 24])\n",
      "out2:  torch.Size([128, 6, 12, 12])\n",
      "out3:  torch.Size([128, 16, 8, 8])\n",
      "out4:  torch.Size([128, 16, 4, 4])\n",
      "out5:  torch.Size([128, 256])\n",
      "out6:  torch.Size([128, 120])\n",
      "out7:  torch.Size([128, 84])\n"
     ]
    }
   ],
   "source": [
    "# print shape at each point of iteration\n",
    "out = F.relu(model.conv1(input_tensor))\n",
    "print(\"out1: \", out.shape)\n",
    "out = F.max_pool2d(out, 2)\n",
    "print(\"out2: \", out.shape)\n",
    "out = F.relu(model.conv2(out))\n",
    "print(\"out3: \", out.shape)\n",
    "out = F.max_pool2d(out, 2)\n",
    "print(\"out4: \", out.shape)\n",
    "out = out.view(out.size(0), -1)\n",
    "print(\"out5: \", out.shape)\n",
    "out = F.relu(model.fc1(out))\n",
    "print(\"out6: \", out.shape)\n",
    "out = F.relu(model.fc2(out))\n",
    "print(\"out7: \", out.shape)"
   ]
  },
  {
   "cell_type": "markdown",
   "metadata": {},
   "source": [
    "## 4b"
   ]
  },
  {
   "cell_type": "code",
   "execution_count": 41,
   "metadata": {},
   "outputs": [
    {
     "name": "stdout",
     "output_type": "stream",
     "text": [
      "classifier.weight\n",
      "Parameter containing:\n",
      "tensor([[-1.2684,  1.1577],\n",
      "        [-0.8177, -0.9292],\n",
      "        [ 1.1926, -1.0165],\n",
      "        [ 0.5106,  0.5433]], requires_grad=True)\n",
      "classifier.bias\n",
      "Parameter containing:\n",
      "tensor([-1.9413,  4.2062, -0.9348, -1.6659], requires_grad=True)\n"
     ]
    }
   ],
   "source": [
    "for name, param in net.named_parameters():\n",
    "    if (name == \"classifier.weight\" or name == \"classifier.bias\"):\n",
    "        print(name)\n",
    "        print(param)"
   ]
  }
 ],
 "metadata": {
  "kernelspec": {
   "display_name": "Python 3 (ipykernel)",
   "language": "python",
   "name": "python3"
  },
  "language_info": {
   "codemirror_mode": {
    "name": "ipython",
    "version": 3
   },
   "file_extension": ".py",
   "mimetype": "text/x-python",
   "name": "python",
   "nbconvert_exporter": "python",
   "pygments_lexer": "ipython3",
   "version": "3.11.7"
  }
 },
 "nbformat": 4,
 "nbformat_minor": 2
}
